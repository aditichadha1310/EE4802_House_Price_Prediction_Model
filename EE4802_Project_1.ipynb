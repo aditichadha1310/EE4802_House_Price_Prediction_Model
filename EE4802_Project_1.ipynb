{
  "nbformat": 4,
  "nbformat_minor": 0,
  "metadata": {
    "colab": {
      "provenance": []
    },
    "kernelspec": {
      "name": "python3",
      "display_name": "Python 3"
    },
    "language_info": {
      "name": "python"
    }
  },
  "cells": [
    {
      "cell_type": "markdown",
      "source": [
        "EE4802 - Learning From Data - House Price Prediction Model\n",
        "\n",
        "\n",
        "Aditi Chadha - A0226612M\n"
      ],
      "metadata": {
        "id": "6HbfMkvWr1sb"
      }
    },
    {
      "cell_type": "code",
      "source": [
        "!pip uninstall scikit-learn -y \n",
        "!pip install -U scikit-learn # Installing latest version"
      ],
      "metadata": {
        "colab": {
          "base_uri": "https://localhost:8080/"
        },
        "id": "REUSZzO_l2yc",
        "outputId": "b3d82981-4eb9-4786-b64c-db21b5e43702"
      },
      "execution_count": 1,
      "outputs": [
        {
          "output_type": "stream",
          "name": "stdout",
          "text": [
            "Found existing installation: scikit-learn 1.2.2\n",
            "Uninstalling scikit-learn-1.2.2:\n",
            "  Successfully uninstalled scikit-learn-1.2.2\n",
            "Looking in indexes: https://pypi.org/simple, https://us-python.pkg.dev/colab-wheels/public/simple/\n",
            "Collecting scikit-learn\n",
            "  Using cached scikit_learn-1.2.2-cp39-cp39-manylinux_2_17_x86_64.manylinux2014_x86_64.whl (9.6 MB)\n",
            "Requirement already satisfied: numpy>=1.17.3 in /usr/local/lib/python3.9/dist-packages (from scikit-learn) (1.22.4)\n",
            "Requirement already satisfied: threadpoolctl>=2.0.0 in /usr/local/lib/python3.9/dist-packages (from scikit-learn) (3.1.0)\n",
            "Requirement already satisfied: scipy>=1.3.2 in /usr/local/lib/python3.9/dist-packages (from scikit-learn) (1.10.1)\n",
            "Requirement already satisfied: joblib>=1.1.1 in /usr/local/lib/python3.9/dist-packages (from scikit-learn) (1.2.0)\n",
            "Installing collected packages: scikit-learn\n",
            "Successfully installed scikit-learn-1.2.2\n"
          ]
        }
      ]
    },
    {
      "cell_type": "markdown",
      "source": [
        "Mounting the drive so the data files can be accessed"
      ],
      "metadata": {
        "id": "cSpbWkYJr8IF"
      }
    },
    {
      "cell_type": "code",
      "execution_count": 2,
      "metadata": {
        "colab": {
          "base_uri": "https://localhost:8080/"
        },
        "id": "rpHfAk07yBhd",
        "outputId": "9e033288-bece-45b3-f587-d0a145ab8e5f"
      },
      "outputs": [
        {
          "output_type": "stream",
          "name": "stdout",
          "text": [
            "Drive already mounted at /content/drive; to attempt to forcibly remount, call drive.mount(\"/content/drive\", force_remount=True).\n"
          ]
        }
      ],
      "source": [
        "from google.colab import drive\n",
        "drive.mount('/content/drive')"
      ]
    },
    {
      "cell_type": "code",
      "source": [
        "import pandas as pd \n",
        "import glob\n",
        "data = pd.concat(map(pd.read_csv, glob.glob(\"/content/drive/MyDrive/Data Files/*.csv\")))\n",
        "# The above .csv files include data from 1990 to 2023.\n",
        "# This data is contained in a total of 5 files namely:\n",
        "# 1990-1999.csv\n",
        "# 2000-feb-2012.csv\n",
        "# Mar-2012-to-Dec-2014.csv\n",
        "# Jan-2015-to-Dec-2016\n",
        "# Jan-2017-onwards.csv"
      ],
      "metadata": {
        "id": "uXnVdNX-yxq2"
      },
      "execution_count": 3,
      "outputs": []
    },
    {
      "cell_type": "markdown",
      "source": [
        "Checking the total number of columns and rows in the data-set"
      ],
      "metadata": {
        "id": "VbWsK5ZZsB91"
      }
    },
    {
      "cell_type": "code",
      "source": [
        "data.shape"
      ],
      "metadata": {
        "colab": {
          "base_uri": "https://localhost:8080/"
        },
        "id": "k2SNTo0x1F2V",
        "outputId": "69716d12-a7f1-4f80-b088-ba6768fa2c33"
      },
      "execution_count": 4,
      "outputs": [
        {
          "output_type": "execute_result",
          "data": {
            "text/plain": [
              "(894203, 11)"
            ]
          },
          "metadata": {},
          "execution_count": 4
        }
      ]
    },
    {
      "cell_type": "markdown",
      "source": [
        "Checking the data types of the data values in the different columns before processing the data"
      ],
      "metadata": {
        "id": "FjJ7nS_OsN97"
      }
    },
    {
      "cell_type": "code",
      "source": [
        "data.info()"
      ],
      "metadata": {
        "colab": {
          "base_uri": "https://localhost:8080/"
        },
        "id": "kAEa8jSS1ItG",
        "outputId": "4cf9bba4-0a86-4f37-d1e9-f55bb8238738"
      },
      "execution_count": 5,
      "outputs": [
        {
          "output_type": "stream",
          "name": "stdout",
          "text": [
            "<class 'pandas.core.frame.DataFrame'>\n",
            "Int64Index: 894203 entries, 0 to 369650\n",
            "Data columns (total 11 columns):\n",
            " #   Column               Non-Null Count   Dtype  \n",
            "---  ------               --------------   -----  \n",
            " 0   month                894203 non-null  object \n",
            " 1   town                 894203 non-null  object \n",
            " 2   flat_type            894203 non-null  object \n",
            " 3   block                894203 non-null  object \n",
            " 4   street_name          894203 non-null  object \n",
            " 5   storey_range         894203 non-null  object \n",
            " 6   floor_area_sqm       894203 non-null  float64\n",
            " 7   flat_model           894203 non-null  object \n",
            " 8   lease_commence_date  894203 non-null  int64  \n",
            " 9   remaining_lease      185153 non-null  object \n",
            " 10  resale_price         894203 non-null  float64\n",
            "dtypes: float64(2), int64(1), object(8)\n",
            "memory usage: 81.9+ MB\n"
          ]
        }
      ]
    },
    {
      "cell_type": "markdown",
      "source": [
        "Checking for any null values in the data-set"
      ],
      "metadata": {
        "id": "IOQOGhphsX0V"
      }
    },
    {
      "cell_type": "code",
      "source": [
        "data.dtypes\n",
        "data.isnull().sum()"
      ],
      "metadata": {
        "colab": {
          "base_uri": "https://localhost:8080/"
        },
        "id": "xLv_PFHvKNYg",
        "outputId": "9eb78c7c-e424-4c36-98d7-fdc35c988698"
      },
      "execution_count": 6,
      "outputs": [
        {
          "output_type": "execute_result",
          "data": {
            "text/plain": [
              "month                       0\n",
              "town                        0\n",
              "flat_type                   0\n",
              "block                       0\n",
              "street_name                 0\n",
              "storey_range                0\n",
              "floor_area_sqm              0\n",
              "flat_model                  0\n",
              "lease_commence_date         0\n",
              "remaining_lease        709050\n",
              "resale_price                0\n",
              "dtype: int64"
            ]
          },
          "metadata": {},
          "execution_count": 6
        }
      ]
    },
    {
      "cell_type": "markdown",
      "source": [
        "Re-checking the data types for some columns and calculating the remaining lease years for all the data points/houses."
      ],
      "metadata": {
        "id": "FNhcbTfPseKC"
      }
    },
    {
      "cell_type": "code",
      "source": [
        "data['resale_price'] = data['resale_price'].astype('float')\n",
        "data['floor_area_sqm'] = data['floor_area_sqm'].astype('float')\n",
        "data['lease_commence_date'] = data['lease_commence_date'].astype('int64')\n",
        "data['lease_remain_years'] = 99 - (2023 - data['lease_commence_date'])\n",
        "data.dtypes"
      ],
      "metadata": {
        "colab": {
          "base_uri": "https://localhost:8080/"
        },
        "id": "yqVNUTJuKXKw",
        "outputId": "a39f3912-852e-4311-9aa9-8e5cc9988203"
      },
      "execution_count": 7,
      "outputs": [
        {
          "output_type": "execute_result",
          "data": {
            "text/plain": [
              "month                   object\n",
              "town                    object\n",
              "flat_type               object\n",
              "block                   object\n",
              "street_name             object\n",
              "storey_range            object\n",
              "floor_area_sqm         float64\n",
              "flat_model              object\n",
              "lease_commence_date      int64\n",
              "remaining_lease         object\n",
              "resale_price           float64\n",
              "lease_remain_years       int64\n",
              "dtype: object"
            ]
          },
          "metadata": {},
          "execution_count": 7
        }
      ]
    },
    {
      "cell_type": "markdown",
      "source": [
        "Checking if the \"lease_remain_years\" column was added to the data-set after the above data-processing."
      ],
      "metadata": {
        "id": "FxIT-q9-soAe"
      }
    },
    {
      "cell_type": "code",
      "source": [
        "data"
      ],
      "metadata": {
        "colab": {
          "base_uri": "https://localhost:8080/",
          "height": 661
        },
        "id": "RxIim2_VMe9y",
        "outputId": "10d60389-fee4-4a5c-80f6-e132463c7c8d"
      },
      "execution_count": 8,
      "outputs": [
        {
          "output_type": "execute_result",
          "data": {
            "text/plain": [
              "          month        town  flat_type block        street_name storey_range  \\\n",
              "0       2015-01  ANG MO KIO     3 ROOM   174   ANG MO KIO AVE 4     07 TO 09   \n",
              "1       2015-01  ANG MO KIO     3 ROOM   541  ANG MO KIO AVE 10     01 TO 03   \n",
              "2       2015-01  ANG MO KIO     3 ROOM   163   ANG MO KIO AVE 4     01 TO 03   \n",
              "3       2015-01  ANG MO KIO     3 ROOM   446  ANG MO KIO AVE 10     01 TO 03   \n",
              "4       2015-01  ANG MO KIO     3 ROOM   557  ANG MO KIO AVE 10     07 TO 09   \n",
              "...         ...         ...        ...   ...                ...          ...   \n",
              "369646  2012-02      YISHUN     5 ROOM   212       YISHUN ST 21     10 TO 12   \n",
              "369647  2012-02      YISHUN     5 ROOM   758       YISHUN ST 72     01 TO 03   \n",
              "369648  2012-02      YISHUN     5 ROOM   873       YISHUN ST 81     01 TO 03   \n",
              "369649  2012-02      YISHUN  EXECUTIVE   664       YISHUN AVE 4     07 TO 09   \n",
              "369650  2012-02      YISHUN  EXECUTIVE   293       YISHUN ST 22     04 TO 06   \n",
              "\n",
              "        floor_area_sqm      flat_model  lease_commence_date remaining_lease  \\\n",
              "0                 60.0        Improved                 1986              70   \n",
              "1                 68.0  New Generation                 1981              65   \n",
              "2                 69.0  New Generation                 1980              64   \n",
              "3                 68.0  New Generation                 1979              63   \n",
              "4                 68.0  New Generation                 1980              64   \n",
              "...                ...             ...                  ...             ...   \n",
              "369646           121.0        Improved                 1985             NaN   \n",
              "369647           122.0        Improved                 1986             NaN   \n",
              "369648           122.0        Improved                 1988             NaN   \n",
              "369649           181.0       Apartment                 1992             NaN   \n",
              "369650           163.0       Apartment                 1992             NaN   \n",
              "\n",
              "        resale_price  lease_remain_years  \n",
              "0           255000.0                  62  \n",
              "1           275000.0                  57  \n",
              "2           285000.0                  56  \n",
              "3           290000.0                  55  \n",
              "4           290000.0                  56  \n",
              "...              ...                 ...  \n",
              "369646      476888.0                  61  \n",
              "369647      490000.0                  62  \n",
              "369648      488000.0                  64  \n",
              "369649      705000.0                  68  \n",
              "369650      630000.0                  68  \n",
              "\n",
              "[894203 rows x 12 columns]"
            ],
            "text/html": [
              "\n",
              "  <div id=\"df-fe180b27-fdba-4730-88f8-6e71325b3920\">\n",
              "    <div class=\"colab-df-container\">\n",
              "      <div>\n",
              "<style scoped>\n",
              "    .dataframe tbody tr th:only-of-type {\n",
              "        vertical-align: middle;\n",
              "    }\n",
              "\n",
              "    .dataframe tbody tr th {\n",
              "        vertical-align: top;\n",
              "    }\n",
              "\n",
              "    .dataframe thead th {\n",
              "        text-align: right;\n",
              "    }\n",
              "</style>\n",
              "<table border=\"1\" class=\"dataframe\">\n",
              "  <thead>\n",
              "    <tr style=\"text-align: right;\">\n",
              "      <th></th>\n",
              "      <th>month</th>\n",
              "      <th>town</th>\n",
              "      <th>flat_type</th>\n",
              "      <th>block</th>\n",
              "      <th>street_name</th>\n",
              "      <th>storey_range</th>\n",
              "      <th>floor_area_sqm</th>\n",
              "      <th>flat_model</th>\n",
              "      <th>lease_commence_date</th>\n",
              "      <th>remaining_lease</th>\n",
              "      <th>resale_price</th>\n",
              "      <th>lease_remain_years</th>\n",
              "    </tr>\n",
              "  </thead>\n",
              "  <tbody>\n",
              "    <tr>\n",
              "      <th>0</th>\n",
              "      <td>2015-01</td>\n",
              "      <td>ANG MO KIO</td>\n",
              "      <td>3 ROOM</td>\n",
              "      <td>174</td>\n",
              "      <td>ANG MO KIO AVE 4</td>\n",
              "      <td>07 TO 09</td>\n",
              "      <td>60.0</td>\n",
              "      <td>Improved</td>\n",
              "      <td>1986</td>\n",
              "      <td>70</td>\n",
              "      <td>255000.0</td>\n",
              "      <td>62</td>\n",
              "    </tr>\n",
              "    <tr>\n",
              "      <th>1</th>\n",
              "      <td>2015-01</td>\n",
              "      <td>ANG MO KIO</td>\n",
              "      <td>3 ROOM</td>\n",
              "      <td>541</td>\n",
              "      <td>ANG MO KIO AVE 10</td>\n",
              "      <td>01 TO 03</td>\n",
              "      <td>68.0</td>\n",
              "      <td>New Generation</td>\n",
              "      <td>1981</td>\n",
              "      <td>65</td>\n",
              "      <td>275000.0</td>\n",
              "      <td>57</td>\n",
              "    </tr>\n",
              "    <tr>\n",
              "      <th>2</th>\n",
              "      <td>2015-01</td>\n",
              "      <td>ANG MO KIO</td>\n",
              "      <td>3 ROOM</td>\n",
              "      <td>163</td>\n",
              "      <td>ANG MO KIO AVE 4</td>\n",
              "      <td>01 TO 03</td>\n",
              "      <td>69.0</td>\n",
              "      <td>New Generation</td>\n",
              "      <td>1980</td>\n",
              "      <td>64</td>\n",
              "      <td>285000.0</td>\n",
              "      <td>56</td>\n",
              "    </tr>\n",
              "    <tr>\n",
              "      <th>3</th>\n",
              "      <td>2015-01</td>\n",
              "      <td>ANG MO KIO</td>\n",
              "      <td>3 ROOM</td>\n",
              "      <td>446</td>\n",
              "      <td>ANG MO KIO AVE 10</td>\n",
              "      <td>01 TO 03</td>\n",
              "      <td>68.0</td>\n",
              "      <td>New Generation</td>\n",
              "      <td>1979</td>\n",
              "      <td>63</td>\n",
              "      <td>290000.0</td>\n",
              "      <td>55</td>\n",
              "    </tr>\n",
              "    <tr>\n",
              "      <th>4</th>\n",
              "      <td>2015-01</td>\n",
              "      <td>ANG MO KIO</td>\n",
              "      <td>3 ROOM</td>\n",
              "      <td>557</td>\n",
              "      <td>ANG MO KIO AVE 10</td>\n",
              "      <td>07 TO 09</td>\n",
              "      <td>68.0</td>\n",
              "      <td>New Generation</td>\n",
              "      <td>1980</td>\n",
              "      <td>64</td>\n",
              "      <td>290000.0</td>\n",
              "      <td>56</td>\n",
              "    </tr>\n",
              "    <tr>\n",
              "      <th>...</th>\n",
              "      <td>...</td>\n",
              "      <td>...</td>\n",
              "      <td>...</td>\n",
              "      <td>...</td>\n",
              "      <td>...</td>\n",
              "      <td>...</td>\n",
              "      <td>...</td>\n",
              "      <td>...</td>\n",
              "      <td>...</td>\n",
              "      <td>...</td>\n",
              "      <td>...</td>\n",
              "      <td>...</td>\n",
              "    </tr>\n",
              "    <tr>\n",
              "      <th>369646</th>\n",
              "      <td>2012-02</td>\n",
              "      <td>YISHUN</td>\n",
              "      <td>5 ROOM</td>\n",
              "      <td>212</td>\n",
              "      <td>YISHUN ST 21</td>\n",
              "      <td>10 TO 12</td>\n",
              "      <td>121.0</td>\n",
              "      <td>Improved</td>\n",
              "      <td>1985</td>\n",
              "      <td>NaN</td>\n",
              "      <td>476888.0</td>\n",
              "      <td>61</td>\n",
              "    </tr>\n",
              "    <tr>\n",
              "      <th>369647</th>\n",
              "      <td>2012-02</td>\n",
              "      <td>YISHUN</td>\n",
              "      <td>5 ROOM</td>\n",
              "      <td>758</td>\n",
              "      <td>YISHUN ST 72</td>\n",
              "      <td>01 TO 03</td>\n",
              "      <td>122.0</td>\n",
              "      <td>Improved</td>\n",
              "      <td>1986</td>\n",
              "      <td>NaN</td>\n",
              "      <td>490000.0</td>\n",
              "      <td>62</td>\n",
              "    </tr>\n",
              "    <tr>\n",
              "      <th>369648</th>\n",
              "      <td>2012-02</td>\n",
              "      <td>YISHUN</td>\n",
              "      <td>5 ROOM</td>\n",
              "      <td>873</td>\n",
              "      <td>YISHUN ST 81</td>\n",
              "      <td>01 TO 03</td>\n",
              "      <td>122.0</td>\n",
              "      <td>Improved</td>\n",
              "      <td>1988</td>\n",
              "      <td>NaN</td>\n",
              "      <td>488000.0</td>\n",
              "      <td>64</td>\n",
              "    </tr>\n",
              "    <tr>\n",
              "      <th>369649</th>\n",
              "      <td>2012-02</td>\n",
              "      <td>YISHUN</td>\n",
              "      <td>EXECUTIVE</td>\n",
              "      <td>664</td>\n",
              "      <td>YISHUN AVE 4</td>\n",
              "      <td>07 TO 09</td>\n",
              "      <td>181.0</td>\n",
              "      <td>Apartment</td>\n",
              "      <td>1992</td>\n",
              "      <td>NaN</td>\n",
              "      <td>705000.0</td>\n",
              "      <td>68</td>\n",
              "    </tr>\n",
              "    <tr>\n",
              "      <th>369650</th>\n",
              "      <td>2012-02</td>\n",
              "      <td>YISHUN</td>\n",
              "      <td>EXECUTIVE</td>\n",
              "      <td>293</td>\n",
              "      <td>YISHUN ST 22</td>\n",
              "      <td>04 TO 06</td>\n",
              "      <td>163.0</td>\n",
              "      <td>Apartment</td>\n",
              "      <td>1992</td>\n",
              "      <td>NaN</td>\n",
              "      <td>630000.0</td>\n",
              "      <td>68</td>\n",
              "    </tr>\n",
              "  </tbody>\n",
              "</table>\n",
              "<p>894203 rows × 12 columns</p>\n",
              "</div>\n",
              "      <button class=\"colab-df-convert\" onclick=\"convertToInteractive('df-fe180b27-fdba-4730-88f8-6e71325b3920')\"\n",
              "              title=\"Convert this dataframe to an interactive table.\"\n",
              "              style=\"display:none;\">\n",
              "        \n",
              "  <svg xmlns=\"http://www.w3.org/2000/svg\" height=\"24px\"viewBox=\"0 0 24 24\"\n",
              "       width=\"24px\">\n",
              "    <path d=\"M0 0h24v24H0V0z\" fill=\"none\"/>\n",
              "    <path d=\"M18.56 5.44l.94 2.06.94-2.06 2.06-.94-2.06-.94-.94-2.06-.94 2.06-2.06.94zm-11 1L8.5 8.5l.94-2.06 2.06-.94-2.06-.94L8.5 2.5l-.94 2.06-2.06.94zm10 10l.94 2.06.94-2.06 2.06-.94-2.06-.94-.94-2.06-.94 2.06-2.06.94z\"/><path d=\"M17.41 7.96l-1.37-1.37c-.4-.4-.92-.59-1.43-.59-.52 0-1.04.2-1.43.59L10.3 9.45l-7.72 7.72c-.78.78-.78 2.05 0 2.83L4 21.41c.39.39.9.59 1.41.59.51 0 1.02-.2 1.41-.59l7.78-7.78 2.81-2.81c.8-.78.8-2.07 0-2.86zM5.41 20L4 18.59l7.72-7.72 1.47 1.35L5.41 20z\"/>\n",
              "  </svg>\n",
              "      </button>\n",
              "      \n",
              "  <style>\n",
              "    .colab-df-container {\n",
              "      display:flex;\n",
              "      flex-wrap:wrap;\n",
              "      gap: 12px;\n",
              "    }\n",
              "\n",
              "    .colab-df-convert {\n",
              "      background-color: #E8F0FE;\n",
              "      border: none;\n",
              "      border-radius: 50%;\n",
              "      cursor: pointer;\n",
              "      display: none;\n",
              "      fill: #1967D2;\n",
              "      height: 32px;\n",
              "      padding: 0 0 0 0;\n",
              "      width: 32px;\n",
              "    }\n",
              "\n",
              "    .colab-df-convert:hover {\n",
              "      background-color: #E2EBFA;\n",
              "      box-shadow: 0px 1px 2px rgba(60, 64, 67, 0.3), 0px 1px 3px 1px rgba(60, 64, 67, 0.15);\n",
              "      fill: #174EA6;\n",
              "    }\n",
              "\n",
              "    [theme=dark] .colab-df-convert {\n",
              "      background-color: #3B4455;\n",
              "      fill: #D2E3FC;\n",
              "    }\n",
              "\n",
              "    [theme=dark] .colab-df-convert:hover {\n",
              "      background-color: #434B5C;\n",
              "      box-shadow: 0px 1px 3px 1px rgba(0, 0, 0, 0.15);\n",
              "      filter: drop-shadow(0px 1px 2px rgba(0, 0, 0, 0.3));\n",
              "      fill: #FFFFFF;\n",
              "    }\n",
              "  </style>\n",
              "\n",
              "      <script>\n",
              "        const buttonEl =\n",
              "          document.querySelector('#df-fe180b27-fdba-4730-88f8-6e71325b3920 button.colab-df-convert');\n",
              "        buttonEl.style.display =\n",
              "          google.colab.kernel.accessAllowed ? 'block' : 'none';\n",
              "\n",
              "        async function convertToInteractive(key) {\n",
              "          const element = document.querySelector('#df-fe180b27-fdba-4730-88f8-6e71325b3920');\n",
              "          const dataTable =\n",
              "            await google.colab.kernel.invokeFunction('convertToInteractive',\n",
              "                                                     [key], {});\n",
              "          if (!dataTable) return;\n",
              "\n",
              "          const docLinkHtml = 'Like what you see? Visit the ' +\n",
              "            '<a target=\"_blank\" href=https://colab.research.google.com/notebooks/data_table.ipynb>data table notebook</a>'\n",
              "            + ' to learn more about interactive tables.';\n",
              "          element.innerHTML = '';\n",
              "          dataTable['output_type'] = 'display_data';\n",
              "          await google.colab.output.renderOutput(dataTable, element);\n",
              "          const docLink = document.createElement('div');\n",
              "          docLink.innerHTML = docLinkHtml;\n",
              "          element.appendChild(docLink);\n",
              "        }\n",
              "      </script>\n",
              "    </div>\n",
              "  </div>\n",
              "  "
            ]
          },
          "metadata": {},
          "execution_count": 8
        }
      ]
    },
    {
      "cell_type": "code",
      "source": [
        "data.isnull().sum()"
      ],
      "metadata": {
        "colab": {
          "base_uri": "https://localhost:8080/"
        },
        "id": "j_PtLQfWNaMc",
        "outputId": "4bde0ec0-4ae8-4e33-820f-ec16aa8796db"
      },
      "execution_count": 9,
      "outputs": [
        {
          "output_type": "execute_result",
          "data": {
            "text/plain": [
              "month                       0\n",
              "town                        0\n",
              "flat_type                   0\n",
              "block                       0\n",
              "street_name                 0\n",
              "storey_range                0\n",
              "floor_area_sqm              0\n",
              "flat_model                  0\n",
              "lease_commence_date         0\n",
              "remaining_lease        709050\n",
              "resale_price                0\n",
              "lease_remain_years          0\n",
              "dtype: int64"
            ]
          },
          "metadata": {},
          "execution_count": 9
        }
      ]
    },
    {
      "cell_type": "markdown",
      "source": [
        "In order to find the median of the storey range, we need the statistics module, which is part of Python's standard library.\n",
        "\n",
        "**get_median()** is a Python function that takes a single argument x, which is expected to be a string representing a range of numerical values separated by the string ' TO '. Example: *07 TO 09*\n",
        "\n",
        "The function first splits the input string x using the ' TO ' delimiter and creates a new list float_list by converting each split value from a string to a floating-point number using a list comprehension.\n",
        "\n",
        "The function then uses the statistics.median function to calculate the median of the float_list and returns the result.\n",
        "\n"
      ],
      "metadata": {
        "id": "0r4qh2uJtHvn"
      }
    },
    {
      "cell_type": "code",
      "source": [
        "import statistics\n",
        "\n",
        "def get_median(x):\n",
        "    split_list = x.split(' TO ')\n",
        "    float_list = [float(i) for i in split_list]\n",
        "    median = statistics.median(float_list)\n",
        "    return median\n"
      ],
      "metadata": {
        "id": "5ZlPPzCjBbMu"
      },
      "execution_count": 10,
      "outputs": []
    },
    {
      "cell_type": "markdown",
      "source": [
        "The below code creates a new column storey_median in the existing DataFrame => \"data\". The apply() method is used to apply the get_median function to each element in the storey_range column, and store the resulting medians in the newly created column-storey_median."
      ],
      "metadata": {
        "id": "X0u9lNy0t1AV"
      }
    },
    {
      "cell_type": "code",
      "source": [
        "data['storey_median'] = data['storey_range'].apply(lambda x: get_median(x))\n",
        "data"
      ],
      "metadata": {
        "colab": {
          "base_uri": "https://localhost:8080/",
          "height": 661
        },
        "id": "NDQl5NQyBpSf",
        "outputId": "02240589-f727-4bf5-c352-c37d5d8b3869"
      },
      "execution_count": 11,
      "outputs": [
        {
          "output_type": "execute_result",
          "data": {
            "text/plain": [
              "          month        town  flat_type block        street_name storey_range  \\\n",
              "0       2015-01  ANG MO KIO     3 ROOM   174   ANG MO KIO AVE 4     07 TO 09   \n",
              "1       2015-01  ANG MO KIO     3 ROOM   541  ANG MO KIO AVE 10     01 TO 03   \n",
              "2       2015-01  ANG MO KIO     3 ROOM   163   ANG MO KIO AVE 4     01 TO 03   \n",
              "3       2015-01  ANG MO KIO     3 ROOM   446  ANG MO KIO AVE 10     01 TO 03   \n",
              "4       2015-01  ANG MO KIO     3 ROOM   557  ANG MO KIO AVE 10     07 TO 09   \n",
              "...         ...         ...        ...   ...                ...          ...   \n",
              "369646  2012-02      YISHUN     5 ROOM   212       YISHUN ST 21     10 TO 12   \n",
              "369647  2012-02      YISHUN     5 ROOM   758       YISHUN ST 72     01 TO 03   \n",
              "369648  2012-02      YISHUN     5 ROOM   873       YISHUN ST 81     01 TO 03   \n",
              "369649  2012-02      YISHUN  EXECUTIVE   664       YISHUN AVE 4     07 TO 09   \n",
              "369650  2012-02      YISHUN  EXECUTIVE   293       YISHUN ST 22     04 TO 06   \n",
              "\n",
              "        floor_area_sqm      flat_model  lease_commence_date remaining_lease  \\\n",
              "0                 60.0        Improved                 1986              70   \n",
              "1                 68.0  New Generation                 1981              65   \n",
              "2                 69.0  New Generation                 1980              64   \n",
              "3                 68.0  New Generation                 1979              63   \n",
              "4                 68.0  New Generation                 1980              64   \n",
              "...                ...             ...                  ...             ...   \n",
              "369646           121.0        Improved                 1985             NaN   \n",
              "369647           122.0        Improved                 1986             NaN   \n",
              "369648           122.0        Improved                 1988             NaN   \n",
              "369649           181.0       Apartment                 1992             NaN   \n",
              "369650           163.0       Apartment                 1992             NaN   \n",
              "\n",
              "        resale_price  lease_remain_years  storey_median  \n",
              "0           255000.0                  62            8.0  \n",
              "1           275000.0                  57            2.0  \n",
              "2           285000.0                  56            2.0  \n",
              "3           290000.0                  55            2.0  \n",
              "4           290000.0                  56            8.0  \n",
              "...              ...                 ...            ...  \n",
              "369646      476888.0                  61           11.0  \n",
              "369647      490000.0                  62            2.0  \n",
              "369648      488000.0                  64            2.0  \n",
              "369649      705000.0                  68            8.0  \n",
              "369650      630000.0                  68            5.0  \n",
              "\n",
              "[894203 rows x 13 columns]"
            ],
            "text/html": [
              "\n",
              "  <div id=\"df-facbe6b2-7e02-4021-8ce2-14ce93c3ad37\">\n",
              "    <div class=\"colab-df-container\">\n",
              "      <div>\n",
              "<style scoped>\n",
              "    .dataframe tbody tr th:only-of-type {\n",
              "        vertical-align: middle;\n",
              "    }\n",
              "\n",
              "    .dataframe tbody tr th {\n",
              "        vertical-align: top;\n",
              "    }\n",
              "\n",
              "    .dataframe thead th {\n",
              "        text-align: right;\n",
              "    }\n",
              "</style>\n",
              "<table border=\"1\" class=\"dataframe\">\n",
              "  <thead>\n",
              "    <tr style=\"text-align: right;\">\n",
              "      <th></th>\n",
              "      <th>month</th>\n",
              "      <th>town</th>\n",
              "      <th>flat_type</th>\n",
              "      <th>block</th>\n",
              "      <th>street_name</th>\n",
              "      <th>storey_range</th>\n",
              "      <th>floor_area_sqm</th>\n",
              "      <th>flat_model</th>\n",
              "      <th>lease_commence_date</th>\n",
              "      <th>remaining_lease</th>\n",
              "      <th>resale_price</th>\n",
              "      <th>lease_remain_years</th>\n",
              "      <th>storey_median</th>\n",
              "    </tr>\n",
              "  </thead>\n",
              "  <tbody>\n",
              "    <tr>\n",
              "      <th>0</th>\n",
              "      <td>2015-01</td>\n",
              "      <td>ANG MO KIO</td>\n",
              "      <td>3 ROOM</td>\n",
              "      <td>174</td>\n",
              "      <td>ANG MO KIO AVE 4</td>\n",
              "      <td>07 TO 09</td>\n",
              "      <td>60.0</td>\n",
              "      <td>Improved</td>\n",
              "      <td>1986</td>\n",
              "      <td>70</td>\n",
              "      <td>255000.0</td>\n",
              "      <td>62</td>\n",
              "      <td>8.0</td>\n",
              "    </tr>\n",
              "    <tr>\n",
              "      <th>1</th>\n",
              "      <td>2015-01</td>\n",
              "      <td>ANG MO KIO</td>\n",
              "      <td>3 ROOM</td>\n",
              "      <td>541</td>\n",
              "      <td>ANG MO KIO AVE 10</td>\n",
              "      <td>01 TO 03</td>\n",
              "      <td>68.0</td>\n",
              "      <td>New Generation</td>\n",
              "      <td>1981</td>\n",
              "      <td>65</td>\n",
              "      <td>275000.0</td>\n",
              "      <td>57</td>\n",
              "      <td>2.0</td>\n",
              "    </tr>\n",
              "    <tr>\n",
              "      <th>2</th>\n",
              "      <td>2015-01</td>\n",
              "      <td>ANG MO KIO</td>\n",
              "      <td>3 ROOM</td>\n",
              "      <td>163</td>\n",
              "      <td>ANG MO KIO AVE 4</td>\n",
              "      <td>01 TO 03</td>\n",
              "      <td>69.0</td>\n",
              "      <td>New Generation</td>\n",
              "      <td>1980</td>\n",
              "      <td>64</td>\n",
              "      <td>285000.0</td>\n",
              "      <td>56</td>\n",
              "      <td>2.0</td>\n",
              "    </tr>\n",
              "    <tr>\n",
              "      <th>3</th>\n",
              "      <td>2015-01</td>\n",
              "      <td>ANG MO KIO</td>\n",
              "      <td>3 ROOM</td>\n",
              "      <td>446</td>\n",
              "      <td>ANG MO KIO AVE 10</td>\n",
              "      <td>01 TO 03</td>\n",
              "      <td>68.0</td>\n",
              "      <td>New Generation</td>\n",
              "      <td>1979</td>\n",
              "      <td>63</td>\n",
              "      <td>290000.0</td>\n",
              "      <td>55</td>\n",
              "      <td>2.0</td>\n",
              "    </tr>\n",
              "    <tr>\n",
              "      <th>4</th>\n",
              "      <td>2015-01</td>\n",
              "      <td>ANG MO KIO</td>\n",
              "      <td>3 ROOM</td>\n",
              "      <td>557</td>\n",
              "      <td>ANG MO KIO AVE 10</td>\n",
              "      <td>07 TO 09</td>\n",
              "      <td>68.0</td>\n",
              "      <td>New Generation</td>\n",
              "      <td>1980</td>\n",
              "      <td>64</td>\n",
              "      <td>290000.0</td>\n",
              "      <td>56</td>\n",
              "      <td>8.0</td>\n",
              "    </tr>\n",
              "    <tr>\n",
              "      <th>...</th>\n",
              "      <td>...</td>\n",
              "      <td>...</td>\n",
              "      <td>...</td>\n",
              "      <td>...</td>\n",
              "      <td>...</td>\n",
              "      <td>...</td>\n",
              "      <td>...</td>\n",
              "      <td>...</td>\n",
              "      <td>...</td>\n",
              "      <td>...</td>\n",
              "      <td>...</td>\n",
              "      <td>...</td>\n",
              "      <td>...</td>\n",
              "    </tr>\n",
              "    <tr>\n",
              "      <th>369646</th>\n",
              "      <td>2012-02</td>\n",
              "      <td>YISHUN</td>\n",
              "      <td>5 ROOM</td>\n",
              "      <td>212</td>\n",
              "      <td>YISHUN ST 21</td>\n",
              "      <td>10 TO 12</td>\n",
              "      <td>121.0</td>\n",
              "      <td>Improved</td>\n",
              "      <td>1985</td>\n",
              "      <td>NaN</td>\n",
              "      <td>476888.0</td>\n",
              "      <td>61</td>\n",
              "      <td>11.0</td>\n",
              "    </tr>\n",
              "    <tr>\n",
              "      <th>369647</th>\n",
              "      <td>2012-02</td>\n",
              "      <td>YISHUN</td>\n",
              "      <td>5 ROOM</td>\n",
              "      <td>758</td>\n",
              "      <td>YISHUN ST 72</td>\n",
              "      <td>01 TO 03</td>\n",
              "      <td>122.0</td>\n",
              "      <td>Improved</td>\n",
              "      <td>1986</td>\n",
              "      <td>NaN</td>\n",
              "      <td>490000.0</td>\n",
              "      <td>62</td>\n",
              "      <td>2.0</td>\n",
              "    </tr>\n",
              "    <tr>\n",
              "      <th>369648</th>\n",
              "      <td>2012-02</td>\n",
              "      <td>YISHUN</td>\n",
              "      <td>5 ROOM</td>\n",
              "      <td>873</td>\n",
              "      <td>YISHUN ST 81</td>\n",
              "      <td>01 TO 03</td>\n",
              "      <td>122.0</td>\n",
              "      <td>Improved</td>\n",
              "      <td>1988</td>\n",
              "      <td>NaN</td>\n",
              "      <td>488000.0</td>\n",
              "      <td>64</td>\n",
              "      <td>2.0</td>\n",
              "    </tr>\n",
              "    <tr>\n",
              "      <th>369649</th>\n",
              "      <td>2012-02</td>\n",
              "      <td>YISHUN</td>\n",
              "      <td>EXECUTIVE</td>\n",
              "      <td>664</td>\n",
              "      <td>YISHUN AVE 4</td>\n",
              "      <td>07 TO 09</td>\n",
              "      <td>181.0</td>\n",
              "      <td>Apartment</td>\n",
              "      <td>1992</td>\n",
              "      <td>NaN</td>\n",
              "      <td>705000.0</td>\n",
              "      <td>68</td>\n",
              "      <td>8.0</td>\n",
              "    </tr>\n",
              "    <tr>\n",
              "      <th>369650</th>\n",
              "      <td>2012-02</td>\n",
              "      <td>YISHUN</td>\n",
              "      <td>EXECUTIVE</td>\n",
              "      <td>293</td>\n",
              "      <td>YISHUN ST 22</td>\n",
              "      <td>04 TO 06</td>\n",
              "      <td>163.0</td>\n",
              "      <td>Apartment</td>\n",
              "      <td>1992</td>\n",
              "      <td>NaN</td>\n",
              "      <td>630000.0</td>\n",
              "      <td>68</td>\n",
              "      <td>5.0</td>\n",
              "    </tr>\n",
              "  </tbody>\n",
              "</table>\n",
              "<p>894203 rows × 13 columns</p>\n",
              "</div>\n",
              "      <button class=\"colab-df-convert\" onclick=\"convertToInteractive('df-facbe6b2-7e02-4021-8ce2-14ce93c3ad37')\"\n",
              "              title=\"Convert this dataframe to an interactive table.\"\n",
              "              style=\"display:none;\">\n",
              "        \n",
              "  <svg xmlns=\"http://www.w3.org/2000/svg\" height=\"24px\"viewBox=\"0 0 24 24\"\n",
              "       width=\"24px\">\n",
              "    <path d=\"M0 0h24v24H0V0z\" fill=\"none\"/>\n",
              "    <path d=\"M18.56 5.44l.94 2.06.94-2.06 2.06-.94-2.06-.94-.94-2.06-.94 2.06-2.06.94zm-11 1L8.5 8.5l.94-2.06 2.06-.94-2.06-.94L8.5 2.5l-.94 2.06-2.06.94zm10 10l.94 2.06.94-2.06 2.06-.94-2.06-.94-.94-2.06-.94 2.06-2.06.94z\"/><path d=\"M17.41 7.96l-1.37-1.37c-.4-.4-.92-.59-1.43-.59-.52 0-1.04.2-1.43.59L10.3 9.45l-7.72 7.72c-.78.78-.78 2.05 0 2.83L4 21.41c.39.39.9.59 1.41.59.51 0 1.02-.2 1.41-.59l7.78-7.78 2.81-2.81c.8-.78.8-2.07 0-2.86zM5.41 20L4 18.59l7.72-7.72 1.47 1.35L5.41 20z\"/>\n",
              "  </svg>\n",
              "      </button>\n",
              "      \n",
              "  <style>\n",
              "    .colab-df-container {\n",
              "      display:flex;\n",
              "      flex-wrap:wrap;\n",
              "      gap: 12px;\n",
              "    }\n",
              "\n",
              "    .colab-df-convert {\n",
              "      background-color: #E8F0FE;\n",
              "      border: none;\n",
              "      border-radius: 50%;\n",
              "      cursor: pointer;\n",
              "      display: none;\n",
              "      fill: #1967D2;\n",
              "      height: 32px;\n",
              "      padding: 0 0 0 0;\n",
              "      width: 32px;\n",
              "    }\n",
              "\n",
              "    .colab-df-convert:hover {\n",
              "      background-color: #E2EBFA;\n",
              "      box-shadow: 0px 1px 2px rgba(60, 64, 67, 0.3), 0px 1px 3px 1px rgba(60, 64, 67, 0.15);\n",
              "      fill: #174EA6;\n",
              "    }\n",
              "\n",
              "    [theme=dark] .colab-df-convert {\n",
              "      background-color: #3B4455;\n",
              "      fill: #D2E3FC;\n",
              "    }\n",
              "\n",
              "    [theme=dark] .colab-df-convert:hover {\n",
              "      background-color: #434B5C;\n",
              "      box-shadow: 0px 1px 3px 1px rgba(0, 0, 0, 0.15);\n",
              "      filter: drop-shadow(0px 1px 2px rgba(0, 0, 0, 0.3));\n",
              "      fill: #FFFFFF;\n",
              "    }\n",
              "  </style>\n",
              "\n",
              "      <script>\n",
              "        const buttonEl =\n",
              "          document.querySelector('#df-facbe6b2-7e02-4021-8ce2-14ce93c3ad37 button.colab-df-convert');\n",
              "        buttonEl.style.display =\n",
              "          google.colab.kernel.accessAllowed ? 'block' : 'none';\n",
              "\n",
              "        async function convertToInteractive(key) {\n",
              "          const element = document.querySelector('#df-facbe6b2-7e02-4021-8ce2-14ce93c3ad37');\n",
              "          const dataTable =\n",
              "            await google.colab.kernel.invokeFunction('convertToInteractive',\n",
              "                                                     [key], {});\n",
              "          if (!dataTable) return;\n",
              "\n",
              "          const docLinkHtml = 'Like what you see? Visit the ' +\n",
              "            '<a target=\"_blank\" href=https://colab.research.google.com/notebooks/data_table.ipynb>data table notebook</a>'\n",
              "            + ' to learn more about interactive tables.';\n",
              "          element.innerHTML = '';\n",
              "          dataTable['output_type'] = 'display_data';\n",
              "          await google.colab.output.renderOutput(dataTable, element);\n",
              "          const docLink = document.createElement('div');\n",
              "          docLink.innerHTML = docLinkHtml;\n",
              "          element.appendChild(docLink);\n",
              "        }\n",
              "      </script>\n",
              "    </div>\n",
              "  </div>\n",
              "  "
            ]
          },
          "metadata": {},
          "execution_count": 11
        }
      ]
    },
    {
      "cell_type": "markdown",
      "source": [
        "Checking if the storey-median column was added to the DataFrame \"Data\" by printing the first five entries of the data-set."
      ],
      "metadata": {
        "id": "niyfE9TOioYS"
      }
    },
    {
      "cell_type": "code",
      "source": [
        "data.head(5)"
      ],
      "metadata": {
        "colab": {
          "base_uri": "https://localhost:8080/",
          "height": 444
        },
        "id": "L_Y7H9ZB1NBZ",
        "outputId": "bb38451b-8f38-4169-c1e8-b811145f087e"
      },
      "execution_count": 12,
      "outputs": [
        {
          "output_type": "execute_result",
          "data": {
            "text/plain": [
              "     month        town flat_type block        street_name storey_range  \\\n",
              "0  2015-01  ANG MO KIO    3 ROOM   174   ANG MO KIO AVE 4     07 TO 09   \n",
              "1  2015-01  ANG MO KIO    3 ROOM   541  ANG MO KIO AVE 10     01 TO 03   \n",
              "2  2015-01  ANG MO KIO    3 ROOM   163   ANG MO KIO AVE 4     01 TO 03   \n",
              "3  2015-01  ANG MO KIO    3 ROOM   446  ANG MO KIO AVE 10     01 TO 03   \n",
              "4  2015-01  ANG MO KIO    3 ROOM   557  ANG MO KIO AVE 10     07 TO 09   \n",
              "\n",
              "   floor_area_sqm      flat_model  lease_commence_date remaining_lease  \\\n",
              "0            60.0        Improved                 1986              70   \n",
              "1            68.0  New Generation                 1981              65   \n",
              "2            69.0  New Generation                 1980              64   \n",
              "3            68.0  New Generation                 1979              63   \n",
              "4            68.0  New Generation                 1980              64   \n",
              "\n",
              "   resale_price  lease_remain_years  storey_median  \n",
              "0      255000.0                  62            8.0  \n",
              "1      275000.0                  57            2.0  \n",
              "2      285000.0                  56            2.0  \n",
              "3      290000.0                  55            2.0  \n",
              "4      290000.0                  56            8.0  "
            ],
            "text/html": [
              "\n",
              "  <div id=\"df-f4adea32-254b-4f38-8a4a-a70f728a9b69\">\n",
              "    <div class=\"colab-df-container\">\n",
              "      <div>\n",
              "<style scoped>\n",
              "    .dataframe tbody tr th:only-of-type {\n",
              "        vertical-align: middle;\n",
              "    }\n",
              "\n",
              "    .dataframe tbody tr th {\n",
              "        vertical-align: top;\n",
              "    }\n",
              "\n",
              "    .dataframe thead th {\n",
              "        text-align: right;\n",
              "    }\n",
              "</style>\n",
              "<table border=\"1\" class=\"dataframe\">\n",
              "  <thead>\n",
              "    <tr style=\"text-align: right;\">\n",
              "      <th></th>\n",
              "      <th>month</th>\n",
              "      <th>town</th>\n",
              "      <th>flat_type</th>\n",
              "      <th>block</th>\n",
              "      <th>street_name</th>\n",
              "      <th>storey_range</th>\n",
              "      <th>floor_area_sqm</th>\n",
              "      <th>flat_model</th>\n",
              "      <th>lease_commence_date</th>\n",
              "      <th>remaining_lease</th>\n",
              "      <th>resale_price</th>\n",
              "      <th>lease_remain_years</th>\n",
              "      <th>storey_median</th>\n",
              "    </tr>\n",
              "  </thead>\n",
              "  <tbody>\n",
              "    <tr>\n",
              "      <th>0</th>\n",
              "      <td>2015-01</td>\n",
              "      <td>ANG MO KIO</td>\n",
              "      <td>3 ROOM</td>\n",
              "      <td>174</td>\n",
              "      <td>ANG MO KIO AVE 4</td>\n",
              "      <td>07 TO 09</td>\n",
              "      <td>60.0</td>\n",
              "      <td>Improved</td>\n",
              "      <td>1986</td>\n",
              "      <td>70</td>\n",
              "      <td>255000.0</td>\n",
              "      <td>62</td>\n",
              "      <td>8.0</td>\n",
              "    </tr>\n",
              "    <tr>\n",
              "      <th>1</th>\n",
              "      <td>2015-01</td>\n",
              "      <td>ANG MO KIO</td>\n",
              "      <td>3 ROOM</td>\n",
              "      <td>541</td>\n",
              "      <td>ANG MO KIO AVE 10</td>\n",
              "      <td>01 TO 03</td>\n",
              "      <td>68.0</td>\n",
              "      <td>New Generation</td>\n",
              "      <td>1981</td>\n",
              "      <td>65</td>\n",
              "      <td>275000.0</td>\n",
              "      <td>57</td>\n",
              "      <td>2.0</td>\n",
              "    </tr>\n",
              "    <tr>\n",
              "      <th>2</th>\n",
              "      <td>2015-01</td>\n",
              "      <td>ANG MO KIO</td>\n",
              "      <td>3 ROOM</td>\n",
              "      <td>163</td>\n",
              "      <td>ANG MO KIO AVE 4</td>\n",
              "      <td>01 TO 03</td>\n",
              "      <td>69.0</td>\n",
              "      <td>New Generation</td>\n",
              "      <td>1980</td>\n",
              "      <td>64</td>\n",
              "      <td>285000.0</td>\n",
              "      <td>56</td>\n",
              "      <td>2.0</td>\n",
              "    </tr>\n",
              "    <tr>\n",
              "      <th>3</th>\n",
              "      <td>2015-01</td>\n",
              "      <td>ANG MO KIO</td>\n",
              "      <td>3 ROOM</td>\n",
              "      <td>446</td>\n",
              "      <td>ANG MO KIO AVE 10</td>\n",
              "      <td>01 TO 03</td>\n",
              "      <td>68.0</td>\n",
              "      <td>New Generation</td>\n",
              "      <td>1979</td>\n",
              "      <td>63</td>\n",
              "      <td>290000.0</td>\n",
              "      <td>55</td>\n",
              "      <td>2.0</td>\n",
              "    </tr>\n",
              "    <tr>\n",
              "      <th>4</th>\n",
              "      <td>2015-01</td>\n",
              "      <td>ANG MO KIO</td>\n",
              "      <td>3 ROOM</td>\n",
              "      <td>557</td>\n",
              "      <td>ANG MO KIO AVE 10</td>\n",
              "      <td>07 TO 09</td>\n",
              "      <td>68.0</td>\n",
              "      <td>New Generation</td>\n",
              "      <td>1980</td>\n",
              "      <td>64</td>\n",
              "      <td>290000.0</td>\n",
              "      <td>56</td>\n",
              "      <td>8.0</td>\n",
              "    </tr>\n",
              "  </tbody>\n",
              "</table>\n",
              "</div>\n",
              "      <button class=\"colab-df-convert\" onclick=\"convertToInteractive('df-f4adea32-254b-4f38-8a4a-a70f728a9b69')\"\n",
              "              title=\"Convert this dataframe to an interactive table.\"\n",
              "              style=\"display:none;\">\n",
              "        \n",
              "  <svg xmlns=\"http://www.w3.org/2000/svg\" height=\"24px\"viewBox=\"0 0 24 24\"\n",
              "       width=\"24px\">\n",
              "    <path d=\"M0 0h24v24H0V0z\" fill=\"none\"/>\n",
              "    <path d=\"M18.56 5.44l.94 2.06.94-2.06 2.06-.94-2.06-.94-.94-2.06-.94 2.06-2.06.94zm-11 1L8.5 8.5l.94-2.06 2.06-.94-2.06-.94L8.5 2.5l-.94 2.06-2.06.94zm10 10l.94 2.06.94-2.06 2.06-.94-2.06-.94-.94-2.06-.94 2.06-2.06.94z\"/><path d=\"M17.41 7.96l-1.37-1.37c-.4-.4-.92-.59-1.43-.59-.52 0-1.04.2-1.43.59L10.3 9.45l-7.72 7.72c-.78.78-.78 2.05 0 2.83L4 21.41c.39.39.9.59 1.41.59.51 0 1.02-.2 1.41-.59l7.78-7.78 2.81-2.81c.8-.78.8-2.07 0-2.86zM5.41 20L4 18.59l7.72-7.72 1.47 1.35L5.41 20z\"/>\n",
              "  </svg>\n",
              "      </button>\n",
              "      \n",
              "  <style>\n",
              "    .colab-df-container {\n",
              "      display:flex;\n",
              "      flex-wrap:wrap;\n",
              "      gap: 12px;\n",
              "    }\n",
              "\n",
              "    .colab-df-convert {\n",
              "      background-color: #E8F0FE;\n",
              "      border: none;\n",
              "      border-radius: 50%;\n",
              "      cursor: pointer;\n",
              "      display: none;\n",
              "      fill: #1967D2;\n",
              "      height: 32px;\n",
              "      padding: 0 0 0 0;\n",
              "      width: 32px;\n",
              "    }\n",
              "\n",
              "    .colab-df-convert:hover {\n",
              "      background-color: #E2EBFA;\n",
              "      box-shadow: 0px 1px 2px rgba(60, 64, 67, 0.3), 0px 1px 3px 1px rgba(60, 64, 67, 0.15);\n",
              "      fill: #174EA6;\n",
              "    }\n",
              "\n",
              "    [theme=dark] .colab-df-convert {\n",
              "      background-color: #3B4455;\n",
              "      fill: #D2E3FC;\n",
              "    }\n",
              "\n",
              "    [theme=dark] .colab-df-convert:hover {\n",
              "      background-color: #434B5C;\n",
              "      box-shadow: 0px 1px 3px 1px rgba(0, 0, 0, 0.15);\n",
              "      filter: drop-shadow(0px 1px 2px rgba(0, 0, 0, 0.3));\n",
              "      fill: #FFFFFF;\n",
              "    }\n",
              "  </style>\n",
              "\n",
              "      <script>\n",
              "        const buttonEl =\n",
              "          document.querySelector('#df-f4adea32-254b-4f38-8a4a-a70f728a9b69 button.colab-df-convert');\n",
              "        buttonEl.style.display =\n",
              "          google.colab.kernel.accessAllowed ? 'block' : 'none';\n",
              "\n",
              "        async function convertToInteractive(key) {\n",
              "          const element = document.querySelector('#df-f4adea32-254b-4f38-8a4a-a70f728a9b69');\n",
              "          const dataTable =\n",
              "            await google.colab.kernel.invokeFunction('convertToInteractive',\n",
              "                                                     [key], {});\n",
              "          if (!dataTable) return;\n",
              "\n",
              "          const docLinkHtml = 'Like what you see? Visit the ' +\n",
              "            '<a target=\"_blank\" href=https://colab.research.google.com/notebooks/data_table.ipynb>data table notebook</a>'\n",
              "            + ' to learn more about interactive tables.';\n",
              "          element.innerHTML = '';\n",
              "          dataTable['output_type'] = 'display_data';\n",
              "          await google.colab.output.renderOutput(dataTable, element);\n",
              "          const docLink = document.createElement('div');\n",
              "          docLink.innerHTML = docLinkHtml;\n",
              "          element.appendChild(docLink);\n",
              "        }\n",
              "      </script>\n",
              "    </div>\n",
              "  </div>\n",
              "  "
            ]
          },
          "metadata": {},
          "execution_count": 12
        }
      ]
    },
    {
      "cell_type": "markdown",
      "source": [
        "For simplicity, the columns \"block\", \"street_name\" and \"remaining_lease\" are dropped from the data set."
      ],
      "metadata": {
        "id": "14JIHJBZcLhT"
      }
    },
    {
      "cell_type": "code",
      "source": [
        "trim_data = data.drop([\"block\", \"street_name\", \"remaining_lease\"], axis=1) \n",
        "trim_data"
      ],
      "metadata": {
        "colab": {
          "base_uri": "https://localhost:8080/",
          "height": 661
        },
        "id": "oOYx5_JW1Scc",
        "outputId": "c4fe046b-b6f6-407f-da66-b58a17d7b26e"
      },
      "execution_count": 13,
      "outputs": [
        {
          "output_type": "execute_result",
          "data": {
            "text/plain": [
              "          month        town  flat_type storey_range  floor_area_sqm  \\\n",
              "0       2015-01  ANG MO KIO     3 ROOM     07 TO 09            60.0   \n",
              "1       2015-01  ANG MO KIO     3 ROOM     01 TO 03            68.0   \n",
              "2       2015-01  ANG MO KIO     3 ROOM     01 TO 03            69.0   \n",
              "3       2015-01  ANG MO KIO     3 ROOM     01 TO 03            68.0   \n",
              "4       2015-01  ANG MO KIO     3 ROOM     07 TO 09            68.0   \n",
              "...         ...         ...        ...          ...             ...   \n",
              "369646  2012-02      YISHUN     5 ROOM     10 TO 12           121.0   \n",
              "369647  2012-02      YISHUN     5 ROOM     01 TO 03           122.0   \n",
              "369648  2012-02      YISHUN     5 ROOM     01 TO 03           122.0   \n",
              "369649  2012-02      YISHUN  EXECUTIVE     07 TO 09           181.0   \n",
              "369650  2012-02      YISHUN  EXECUTIVE     04 TO 06           163.0   \n",
              "\n",
              "            flat_model  lease_commence_date  resale_price  lease_remain_years  \\\n",
              "0             Improved                 1986      255000.0                  62   \n",
              "1       New Generation                 1981      275000.0                  57   \n",
              "2       New Generation                 1980      285000.0                  56   \n",
              "3       New Generation                 1979      290000.0                  55   \n",
              "4       New Generation                 1980      290000.0                  56   \n",
              "...                ...                  ...           ...                 ...   \n",
              "369646        Improved                 1985      476888.0                  61   \n",
              "369647        Improved                 1986      490000.0                  62   \n",
              "369648        Improved                 1988      488000.0                  64   \n",
              "369649       Apartment                 1992      705000.0                  68   \n",
              "369650       Apartment                 1992      630000.0                  68   \n",
              "\n",
              "        storey_median  \n",
              "0                 8.0  \n",
              "1                 2.0  \n",
              "2                 2.0  \n",
              "3                 2.0  \n",
              "4                 8.0  \n",
              "...               ...  \n",
              "369646           11.0  \n",
              "369647            2.0  \n",
              "369648            2.0  \n",
              "369649            8.0  \n",
              "369650            5.0  \n",
              "\n",
              "[894203 rows x 10 columns]"
            ],
            "text/html": [
              "\n",
              "  <div id=\"df-c8f90463-5d83-47f4-b151-1e656107a375\">\n",
              "    <div class=\"colab-df-container\">\n",
              "      <div>\n",
              "<style scoped>\n",
              "    .dataframe tbody tr th:only-of-type {\n",
              "        vertical-align: middle;\n",
              "    }\n",
              "\n",
              "    .dataframe tbody tr th {\n",
              "        vertical-align: top;\n",
              "    }\n",
              "\n",
              "    .dataframe thead th {\n",
              "        text-align: right;\n",
              "    }\n",
              "</style>\n",
              "<table border=\"1\" class=\"dataframe\">\n",
              "  <thead>\n",
              "    <tr style=\"text-align: right;\">\n",
              "      <th></th>\n",
              "      <th>month</th>\n",
              "      <th>town</th>\n",
              "      <th>flat_type</th>\n",
              "      <th>storey_range</th>\n",
              "      <th>floor_area_sqm</th>\n",
              "      <th>flat_model</th>\n",
              "      <th>lease_commence_date</th>\n",
              "      <th>resale_price</th>\n",
              "      <th>lease_remain_years</th>\n",
              "      <th>storey_median</th>\n",
              "    </tr>\n",
              "  </thead>\n",
              "  <tbody>\n",
              "    <tr>\n",
              "      <th>0</th>\n",
              "      <td>2015-01</td>\n",
              "      <td>ANG MO KIO</td>\n",
              "      <td>3 ROOM</td>\n",
              "      <td>07 TO 09</td>\n",
              "      <td>60.0</td>\n",
              "      <td>Improved</td>\n",
              "      <td>1986</td>\n",
              "      <td>255000.0</td>\n",
              "      <td>62</td>\n",
              "      <td>8.0</td>\n",
              "    </tr>\n",
              "    <tr>\n",
              "      <th>1</th>\n",
              "      <td>2015-01</td>\n",
              "      <td>ANG MO KIO</td>\n",
              "      <td>3 ROOM</td>\n",
              "      <td>01 TO 03</td>\n",
              "      <td>68.0</td>\n",
              "      <td>New Generation</td>\n",
              "      <td>1981</td>\n",
              "      <td>275000.0</td>\n",
              "      <td>57</td>\n",
              "      <td>2.0</td>\n",
              "    </tr>\n",
              "    <tr>\n",
              "      <th>2</th>\n",
              "      <td>2015-01</td>\n",
              "      <td>ANG MO KIO</td>\n",
              "      <td>3 ROOM</td>\n",
              "      <td>01 TO 03</td>\n",
              "      <td>69.0</td>\n",
              "      <td>New Generation</td>\n",
              "      <td>1980</td>\n",
              "      <td>285000.0</td>\n",
              "      <td>56</td>\n",
              "      <td>2.0</td>\n",
              "    </tr>\n",
              "    <tr>\n",
              "      <th>3</th>\n",
              "      <td>2015-01</td>\n",
              "      <td>ANG MO KIO</td>\n",
              "      <td>3 ROOM</td>\n",
              "      <td>01 TO 03</td>\n",
              "      <td>68.0</td>\n",
              "      <td>New Generation</td>\n",
              "      <td>1979</td>\n",
              "      <td>290000.0</td>\n",
              "      <td>55</td>\n",
              "      <td>2.0</td>\n",
              "    </tr>\n",
              "    <tr>\n",
              "      <th>4</th>\n",
              "      <td>2015-01</td>\n",
              "      <td>ANG MO KIO</td>\n",
              "      <td>3 ROOM</td>\n",
              "      <td>07 TO 09</td>\n",
              "      <td>68.0</td>\n",
              "      <td>New Generation</td>\n",
              "      <td>1980</td>\n",
              "      <td>290000.0</td>\n",
              "      <td>56</td>\n",
              "      <td>8.0</td>\n",
              "    </tr>\n",
              "    <tr>\n",
              "      <th>...</th>\n",
              "      <td>...</td>\n",
              "      <td>...</td>\n",
              "      <td>...</td>\n",
              "      <td>...</td>\n",
              "      <td>...</td>\n",
              "      <td>...</td>\n",
              "      <td>...</td>\n",
              "      <td>...</td>\n",
              "      <td>...</td>\n",
              "      <td>...</td>\n",
              "    </tr>\n",
              "    <tr>\n",
              "      <th>369646</th>\n",
              "      <td>2012-02</td>\n",
              "      <td>YISHUN</td>\n",
              "      <td>5 ROOM</td>\n",
              "      <td>10 TO 12</td>\n",
              "      <td>121.0</td>\n",
              "      <td>Improved</td>\n",
              "      <td>1985</td>\n",
              "      <td>476888.0</td>\n",
              "      <td>61</td>\n",
              "      <td>11.0</td>\n",
              "    </tr>\n",
              "    <tr>\n",
              "      <th>369647</th>\n",
              "      <td>2012-02</td>\n",
              "      <td>YISHUN</td>\n",
              "      <td>5 ROOM</td>\n",
              "      <td>01 TO 03</td>\n",
              "      <td>122.0</td>\n",
              "      <td>Improved</td>\n",
              "      <td>1986</td>\n",
              "      <td>490000.0</td>\n",
              "      <td>62</td>\n",
              "      <td>2.0</td>\n",
              "    </tr>\n",
              "    <tr>\n",
              "      <th>369648</th>\n",
              "      <td>2012-02</td>\n",
              "      <td>YISHUN</td>\n",
              "      <td>5 ROOM</td>\n",
              "      <td>01 TO 03</td>\n",
              "      <td>122.0</td>\n",
              "      <td>Improved</td>\n",
              "      <td>1988</td>\n",
              "      <td>488000.0</td>\n",
              "      <td>64</td>\n",
              "      <td>2.0</td>\n",
              "    </tr>\n",
              "    <tr>\n",
              "      <th>369649</th>\n",
              "      <td>2012-02</td>\n",
              "      <td>YISHUN</td>\n",
              "      <td>EXECUTIVE</td>\n",
              "      <td>07 TO 09</td>\n",
              "      <td>181.0</td>\n",
              "      <td>Apartment</td>\n",
              "      <td>1992</td>\n",
              "      <td>705000.0</td>\n",
              "      <td>68</td>\n",
              "      <td>8.0</td>\n",
              "    </tr>\n",
              "    <tr>\n",
              "      <th>369650</th>\n",
              "      <td>2012-02</td>\n",
              "      <td>YISHUN</td>\n",
              "      <td>EXECUTIVE</td>\n",
              "      <td>04 TO 06</td>\n",
              "      <td>163.0</td>\n",
              "      <td>Apartment</td>\n",
              "      <td>1992</td>\n",
              "      <td>630000.0</td>\n",
              "      <td>68</td>\n",
              "      <td>5.0</td>\n",
              "    </tr>\n",
              "  </tbody>\n",
              "</table>\n",
              "<p>894203 rows × 10 columns</p>\n",
              "</div>\n",
              "      <button class=\"colab-df-convert\" onclick=\"convertToInteractive('df-c8f90463-5d83-47f4-b151-1e656107a375')\"\n",
              "              title=\"Convert this dataframe to an interactive table.\"\n",
              "              style=\"display:none;\">\n",
              "        \n",
              "  <svg xmlns=\"http://www.w3.org/2000/svg\" height=\"24px\"viewBox=\"0 0 24 24\"\n",
              "       width=\"24px\">\n",
              "    <path d=\"M0 0h24v24H0V0z\" fill=\"none\"/>\n",
              "    <path d=\"M18.56 5.44l.94 2.06.94-2.06 2.06-.94-2.06-.94-.94-2.06-.94 2.06-2.06.94zm-11 1L8.5 8.5l.94-2.06 2.06-.94-2.06-.94L8.5 2.5l-.94 2.06-2.06.94zm10 10l.94 2.06.94-2.06 2.06-.94-2.06-.94-.94-2.06-.94 2.06-2.06.94z\"/><path d=\"M17.41 7.96l-1.37-1.37c-.4-.4-.92-.59-1.43-.59-.52 0-1.04.2-1.43.59L10.3 9.45l-7.72 7.72c-.78.78-.78 2.05 0 2.83L4 21.41c.39.39.9.59 1.41.59.51 0 1.02-.2 1.41-.59l7.78-7.78 2.81-2.81c.8-.78.8-2.07 0-2.86zM5.41 20L4 18.59l7.72-7.72 1.47 1.35L5.41 20z\"/>\n",
              "  </svg>\n",
              "      </button>\n",
              "      \n",
              "  <style>\n",
              "    .colab-df-container {\n",
              "      display:flex;\n",
              "      flex-wrap:wrap;\n",
              "      gap: 12px;\n",
              "    }\n",
              "\n",
              "    .colab-df-convert {\n",
              "      background-color: #E8F0FE;\n",
              "      border: none;\n",
              "      border-radius: 50%;\n",
              "      cursor: pointer;\n",
              "      display: none;\n",
              "      fill: #1967D2;\n",
              "      height: 32px;\n",
              "      padding: 0 0 0 0;\n",
              "      width: 32px;\n",
              "    }\n",
              "\n",
              "    .colab-df-convert:hover {\n",
              "      background-color: #E2EBFA;\n",
              "      box-shadow: 0px 1px 2px rgba(60, 64, 67, 0.3), 0px 1px 3px 1px rgba(60, 64, 67, 0.15);\n",
              "      fill: #174EA6;\n",
              "    }\n",
              "\n",
              "    [theme=dark] .colab-df-convert {\n",
              "      background-color: #3B4455;\n",
              "      fill: #D2E3FC;\n",
              "    }\n",
              "\n",
              "    [theme=dark] .colab-df-convert:hover {\n",
              "      background-color: #434B5C;\n",
              "      box-shadow: 0px 1px 3px 1px rgba(0, 0, 0, 0.15);\n",
              "      filter: drop-shadow(0px 1px 2px rgba(0, 0, 0, 0.3));\n",
              "      fill: #FFFFFF;\n",
              "    }\n",
              "  </style>\n",
              "\n",
              "      <script>\n",
              "        const buttonEl =\n",
              "          document.querySelector('#df-c8f90463-5d83-47f4-b151-1e656107a375 button.colab-df-convert');\n",
              "        buttonEl.style.display =\n",
              "          google.colab.kernel.accessAllowed ? 'block' : 'none';\n",
              "\n",
              "        async function convertToInteractive(key) {\n",
              "          const element = document.querySelector('#df-c8f90463-5d83-47f4-b151-1e656107a375');\n",
              "          const dataTable =\n",
              "            await google.colab.kernel.invokeFunction('convertToInteractive',\n",
              "                                                     [key], {});\n",
              "          if (!dataTable) return;\n",
              "\n",
              "          const docLinkHtml = 'Like what you see? Visit the ' +\n",
              "            '<a target=\"_blank\" href=https://colab.research.google.com/notebooks/data_table.ipynb>data table notebook</a>'\n",
              "            + ' to learn more about interactive tables.';\n",
              "          element.innerHTML = '';\n",
              "          dataTable['output_type'] = 'display_data';\n",
              "          await google.colab.output.renderOutput(dataTable, element);\n",
              "          const docLink = document.createElement('div');\n",
              "          docLink.innerHTML = docLinkHtml;\n",
              "          element.appendChild(docLink);\n",
              "        }\n",
              "      </script>\n",
              "    </div>\n",
              "  </div>\n",
              "  "
            ]
          },
          "metadata": {},
          "execution_count": 13
        }
      ]
    },
    {
      "cell_type": "markdown",
      "source": [
        "Another dataframe called \"trim_data_correlation\" is created with the relevant columns from the trim_data data set. These include 'floor_area_sqm', 'lease_remain_years', 'storey_median' and 'resale_price'. \n",
        "\n",
        "This trim_data_correlation data frame will be used subsequently to get the correlation between the variables in the dataframe."
      ],
      "metadata": {
        "id": "jdlNgOZ1kB_b"
      }
    },
    {
      "cell_type": "code",
      "source": [
        "trim_data_correlation = trim_data[['floor_area_sqm','lease_remain_years','storey_median','resale_price']]\n",
        "trim_data_correlation"
      ],
      "metadata": {
        "colab": {
          "base_uri": "https://localhost:8080/",
          "height": 423
        },
        "id": "8JZMrdlP-57_",
        "outputId": "68322164-d9d1-456c-b5ec-a60ace7f6b33"
      },
      "execution_count": 14,
      "outputs": [
        {
          "output_type": "execute_result",
          "data": {
            "text/plain": [
              "        floor_area_sqm  lease_remain_years  storey_median  resale_price\n",
              "0                 60.0                  62            8.0      255000.0\n",
              "1                 68.0                  57            2.0      275000.0\n",
              "2                 69.0                  56            2.0      285000.0\n",
              "3                 68.0                  55            2.0      290000.0\n",
              "4                 68.0                  56            8.0      290000.0\n",
              "...                ...                 ...            ...           ...\n",
              "369646           121.0                  61           11.0      476888.0\n",
              "369647           122.0                  62            2.0      490000.0\n",
              "369648           122.0                  64            2.0      488000.0\n",
              "369649           181.0                  68            8.0      705000.0\n",
              "369650           163.0                  68            5.0      630000.0\n",
              "\n",
              "[894203 rows x 4 columns]"
            ],
            "text/html": [
              "\n",
              "  <div id=\"df-300f8748-05c4-4fad-8a54-7bafc50dfd74\">\n",
              "    <div class=\"colab-df-container\">\n",
              "      <div>\n",
              "<style scoped>\n",
              "    .dataframe tbody tr th:only-of-type {\n",
              "        vertical-align: middle;\n",
              "    }\n",
              "\n",
              "    .dataframe tbody tr th {\n",
              "        vertical-align: top;\n",
              "    }\n",
              "\n",
              "    .dataframe thead th {\n",
              "        text-align: right;\n",
              "    }\n",
              "</style>\n",
              "<table border=\"1\" class=\"dataframe\">\n",
              "  <thead>\n",
              "    <tr style=\"text-align: right;\">\n",
              "      <th></th>\n",
              "      <th>floor_area_sqm</th>\n",
              "      <th>lease_remain_years</th>\n",
              "      <th>storey_median</th>\n",
              "      <th>resale_price</th>\n",
              "    </tr>\n",
              "  </thead>\n",
              "  <tbody>\n",
              "    <tr>\n",
              "      <th>0</th>\n",
              "      <td>60.0</td>\n",
              "      <td>62</td>\n",
              "      <td>8.0</td>\n",
              "      <td>255000.0</td>\n",
              "    </tr>\n",
              "    <tr>\n",
              "      <th>1</th>\n",
              "      <td>68.0</td>\n",
              "      <td>57</td>\n",
              "      <td>2.0</td>\n",
              "      <td>275000.0</td>\n",
              "    </tr>\n",
              "    <tr>\n",
              "      <th>2</th>\n",
              "      <td>69.0</td>\n",
              "      <td>56</td>\n",
              "      <td>2.0</td>\n",
              "      <td>285000.0</td>\n",
              "    </tr>\n",
              "    <tr>\n",
              "      <th>3</th>\n",
              "      <td>68.0</td>\n",
              "      <td>55</td>\n",
              "      <td>2.0</td>\n",
              "      <td>290000.0</td>\n",
              "    </tr>\n",
              "    <tr>\n",
              "      <th>4</th>\n",
              "      <td>68.0</td>\n",
              "      <td>56</td>\n",
              "      <td>8.0</td>\n",
              "      <td>290000.0</td>\n",
              "    </tr>\n",
              "    <tr>\n",
              "      <th>...</th>\n",
              "      <td>...</td>\n",
              "      <td>...</td>\n",
              "      <td>...</td>\n",
              "      <td>...</td>\n",
              "    </tr>\n",
              "    <tr>\n",
              "      <th>369646</th>\n",
              "      <td>121.0</td>\n",
              "      <td>61</td>\n",
              "      <td>11.0</td>\n",
              "      <td>476888.0</td>\n",
              "    </tr>\n",
              "    <tr>\n",
              "      <th>369647</th>\n",
              "      <td>122.0</td>\n",
              "      <td>62</td>\n",
              "      <td>2.0</td>\n",
              "      <td>490000.0</td>\n",
              "    </tr>\n",
              "    <tr>\n",
              "      <th>369648</th>\n",
              "      <td>122.0</td>\n",
              "      <td>64</td>\n",
              "      <td>2.0</td>\n",
              "      <td>488000.0</td>\n",
              "    </tr>\n",
              "    <tr>\n",
              "      <th>369649</th>\n",
              "      <td>181.0</td>\n",
              "      <td>68</td>\n",
              "      <td>8.0</td>\n",
              "      <td>705000.0</td>\n",
              "    </tr>\n",
              "    <tr>\n",
              "      <th>369650</th>\n",
              "      <td>163.0</td>\n",
              "      <td>68</td>\n",
              "      <td>5.0</td>\n",
              "      <td>630000.0</td>\n",
              "    </tr>\n",
              "  </tbody>\n",
              "</table>\n",
              "<p>894203 rows × 4 columns</p>\n",
              "</div>\n",
              "      <button class=\"colab-df-convert\" onclick=\"convertToInteractive('df-300f8748-05c4-4fad-8a54-7bafc50dfd74')\"\n",
              "              title=\"Convert this dataframe to an interactive table.\"\n",
              "              style=\"display:none;\">\n",
              "        \n",
              "  <svg xmlns=\"http://www.w3.org/2000/svg\" height=\"24px\"viewBox=\"0 0 24 24\"\n",
              "       width=\"24px\">\n",
              "    <path d=\"M0 0h24v24H0V0z\" fill=\"none\"/>\n",
              "    <path d=\"M18.56 5.44l.94 2.06.94-2.06 2.06-.94-2.06-.94-.94-2.06-.94 2.06-2.06.94zm-11 1L8.5 8.5l.94-2.06 2.06-.94-2.06-.94L8.5 2.5l-.94 2.06-2.06.94zm10 10l.94 2.06.94-2.06 2.06-.94-2.06-.94-.94-2.06-.94 2.06-2.06.94z\"/><path d=\"M17.41 7.96l-1.37-1.37c-.4-.4-.92-.59-1.43-.59-.52 0-1.04.2-1.43.59L10.3 9.45l-7.72 7.72c-.78.78-.78 2.05 0 2.83L4 21.41c.39.39.9.59 1.41.59.51 0 1.02-.2 1.41-.59l7.78-7.78 2.81-2.81c.8-.78.8-2.07 0-2.86zM5.41 20L4 18.59l7.72-7.72 1.47 1.35L5.41 20z\"/>\n",
              "  </svg>\n",
              "      </button>\n",
              "      \n",
              "  <style>\n",
              "    .colab-df-container {\n",
              "      display:flex;\n",
              "      flex-wrap:wrap;\n",
              "      gap: 12px;\n",
              "    }\n",
              "\n",
              "    .colab-df-convert {\n",
              "      background-color: #E8F0FE;\n",
              "      border: none;\n",
              "      border-radius: 50%;\n",
              "      cursor: pointer;\n",
              "      display: none;\n",
              "      fill: #1967D2;\n",
              "      height: 32px;\n",
              "      padding: 0 0 0 0;\n",
              "      width: 32px;\n",
              "    }\n",
              "\n",
              "    .colab-df-convert:hover {\n",
              "      background-color: #E2EBFA;\n",
              "      box-shadow: 0px 1px 2px rgba(60, 64, 67, 0.3), 0px 1px 3px 1px rgba(60, 64, 67, 0.15);\n",
              "      fill: #174EA6;\n",
              "    }\n",
              "\n",
              "    [theme=dark] .colab-df-convert {\n",
              "      background-color: #3B4455;\n",
              "      fill: #D2E3FC;\n",
              "    }\n",
              "\n",
              "    [theme=dark] .colab-df-convert:hover {\n",
              "      background-color: #434B5C;\n",
              "      box-shadow: 0px 1px 3px 1px rgba(0, 0, 0, 0.15);\n",
              "      filter: drop-shadow(0px 1px 2px rgba(0, 0, 0, 0.3));\n",
              "      fill: #FFFFFF;\n",
              "    }\n",
              "  </style>\n",
              "\n",
              "      <script>\n",
              "        const buttonEl =\n",
              "          document.querySelector('#df-300f8748-05c4-4fad-8a54-7bafc50dfd74 button.colab-df-convert');\n",
              "        buttonEl.style.display =\n",
              "          google.colab.kernel.accessAllowed ? 'block' : 'none';\n",
              "\n",
              "        async function convertToInteractive(key) {\n",
              "          const element = document.querySelector('#df-300f8748-05c4-4fad-8a54-7bafc50dfd74');\n",
              "          const dataTable =\n",
              "            await google.colab.kernel.invokeFunction('convertToInteractive',\n",
              "                                                     [key], {});\n",
              "          if (!dataTable) return;\n",
              "\n",
              "          const docLinkHtml = 'Like what you see? Visit the ' +\n",
              "            '<a target=\"_blank\" href=https://colab.research.google.com/notebooks/data_table.ipynb>data table notebook</a>'\n",
              "            + ' to learn more about interactive tables.';\n",
              "          element.innerHTML = '';\n",
              "          dataTable['output_type'] = 'display_data';\n",
              "          await google.colab.output.renderOutput(dataTable, element);\n",
              "          const docLink = document.createElement('div');\n",
              "          docLink.innerHTML = docLinkHtml;\n",
              "          element.appendChild(docLink);\n",
              "        }\n",
              "      </script>\n",
              "    </div>\n",
              "  </div>\n",
              "  "
            ]
          },
          "metadata": {},
          "execution_count": 14
        }
      ]
    },
    {
      "cell_type": "markdown",
      "source": [
        "The following code drops duplicates (if any) from the dataframe and then prints the resulting dataframe."
      ],
      "metadata": {
        "id": "j2xMWOYHnN2H"
      }
    },
    {
      "cell_type": "code",
      "source": [
        "trim_data_correlation = trim_data_correlation.drop_duplicates()\n",
        "trim_data_correlation"
      ],
      "metadata": {
        "colab": {
          "base_uri": "https://localhost:8080/",
          "height": 423
        },
        "id": "Eo-9pyQWCCSH",
        "outputId": "d2523eae-e9fc-4cee-b466-088f35838101"
      },
      "execution_count": 15,
      "outputs": [
        {
          "output_type": "execute_result",
          "data": {
            "text/plain": [
              "        floor_area_sqm  lease_remain_years  storey_median  resale_price\n",
              "0                 60.0                  62            8.0      255000.0\n",
              "1                 68.0                  57            2.0      275000.0\n",
              "2                 69.0                  56            2.0      285000.0\n",
              "3                 68.0                  55            2.0      290000.0\n",
              "4                 68.0                  56            8.0      290000.0\n",
              "...                ...                 ...            ...           ...\n",
              "369638           121.0                  63            2.0      437500.0\n",
              "369640           127.0                  64            5.0      515000.0\n",
              "369641           129.0                  64           11.0      475000.0\n",
              "369645           121.0                  61            5.0      503000.0\n",
              "369650           163.0                  68            5.0      630000.0\n",
              "\n",
              "[514456 rows x 4 columns]"
            ],
            "text/html": [
              "\n",
              "  <div id=\"df-da24da92-5b99-47f5-bc91-0b2a97ed848f\">\n",
              "    <div class=\"colab-df-container\">\n",
              "      <div>\n",
              "<style scoped>\n",
              "    .dataframe tbody tr th:only-of-type {\n",
              "        vertical-align: middle;\n",
              "    }\n",
              "\n",
              "    .dataframe tbody tr th {\n",
              "        vertical-align: top;\n",
              "    }\n",
              "\n",
              "    .dataframe thead th {\n",
              "        text-align: right;\n",
              "    }\n",
              "</style>\n",
              "<table border=\"1\" class=\"dataframe\">\n",
              "  <thead>\n",
              "    <tr style=\"text-align: right;\">\n",
              "      <th></th>\n",
              "      <th>floor_area_sqm</th>\n",
              "      <th>lease_remain_years</th>\n",
              "      <th>storey_median</th>\n",
              "      <th>resale_price</th>\n",
              "    </tr>\n",
              "  </thead>\n",
              "  <tbody>\n",
              "    <tr>\n",
              "      <th>0</th>\n",
              "      <td>60.0</td>\n",
              "      <td>62</td>\n",
              "      <td>8.0</td>\n",
              "      <td>255000.0</td>\n",
              "    </tr>\n",
              "    <tr>\n",
              "      <th>1</th>\n",
              "      <td>68.0</td>\n",
              "      <td>57</td>\n",
              "      <td>2.0</td>\n",
              "      <td>275000.0</td>\n",
              "    </tr>\n",
              "    <tr>\n",
              "      <th>2</th>\n",
              "      <td>69.0</td>\n",
              "      <td>56</td>\n",
              "      <td>2.0</td>\n",
              "      <td>285000.0</td>\n",
              "    </tr>\n",
              "    <tr>\n",
              "      <th>3</th>\n",
              "      <td>68.0</td>\n",
              "      <td>55</td>\n",
              "      <td>2.0</td>\n",
              "      <td>290000.0</td>\n",
              "    </tr>\n",
              "    <tr>\n",
              "      <th>4</th>\n",
              "      <td>68.0</td>\n",
              "      <td>56</td>\n",
              "      <td>8.0</td>\n",
              "      <td>290000.0</td>\n",
              "    </tr>\n",
              "    <tr>\n",
              "      <th>...</th>\n",
              "      <td>...</td>\n",
              "      <td>...</td>\n",
              "      <td>...</td>\n",
              "      <td>...</td>\n",
              "    </tr>\n",
              "    <tr>\n",
              "      <th>369638</th>\n",
              "      <td>121.0</td>\n",
              "      <td>63</td>\n",
              "      <td>2.0</td>\n",
              "      <td>437500.0</td>\n",
              "    </tr>\n",
              "    <tr>\n",
              "      <th>369640</th>\n",
              "      <td>127.0</td>\n",
              "      <td>64</td>\n",
              "      <td>5.0</td>\n",
              "      <td>515000.0</td>\n",
              "    </tr>\n",
              "    <tr>\n",
              "      <th>369641</th>\n",
              "      <td>129.0</td>\n",
              "      <td>64</td>\n",
              "      <td>11.0</td>\n",
              "      <td>475000.0</td>\n",
              "    </tr>\n",
              "    <tr>\n",
              "      <th>369645</th>\n",
              "      <td>121.0</td>\n",
              "      <td>61</td>\n",
              "      <td>5.0</td>\n",
              "      <td>503000.0</td>\n",
              "    </tr>\n",
              "    <tr>\n",
              "      <th>369650</th>\n",
              "      <td>163.0</td>\n",
              "      <td>68</td>\n",
              "      <td>5.0</td>\n",
              "      <td>630000.0</td>\n",
              "    </tr>\n",
              "  </tbody>\n",
              "</table>\n",
              "<p>514456 rows × 4 columns</p>\n",
              "</div>\n",
              "      <button class=\"colab-df-convert\" onclick=\"convertToInteractive('df-da24da92-5b99-47f5-bc91-0b2a97ed848f')\"\n",
              "              title=\"Convert this dataframe to an interactive table.\"\n",
              "              style=\"display:none;\">\n",
              "        \n",
              "  <svg xmlns=\"http://www.w3.org/2000/svg\" height=\"24px\"viewBox=\"0 0 24 24\"\n",
              "       width=\"24px\">\n",
              "    <path d=\"M0 0h24v24H0V0z\" fill=\"none\"/>\n",
              "    <path d=\"M18.56 5.44l.94 2.06.94-2.06 2.06-.94-2.06-.94-.94-2.06-.94 2.06-2.06.94zm-11 1L8.5 8.5l.94-2.06 2.06-.94-2.06-.94L8.5 2.5l-.94 2.06-2.06.94zm10 10l.94 2.06.94-2.06 2.06-.94-2.06-.94-.94-2.06-.94 2.06-2.06.94z\"/><path d=\"M17.41 7.96l-1.37-1.37c-.4-.4-.92-.59-1.43-.59-.52 0-1.04.2-1.43.59L10.3 9.45l-7.72 7.72c-.78.78-.78 2.05 0 2.83L4 21.41c.39.39.9.59 1.41.59.51 0 1.02-.2 1.41-.59l7.78-7.78 2.81-2.81c.8-.78.8-2.07 0-2.86zM5.41 20L4 18.59l7.72-7.72 1.47 1.35L5.41 20z\"/>\n",
              "  </svg>\n",
              "      </button>\n",
              "      \n",
              "  <style>\n",
              "    .colab-df-container {\n",
              "      display:flex;\n",
              "      flex-wrap:wrap;\n",
              "      gap: 12px;\n",
              "    }\n",
              "\n",
              "    .colab-df-convert {\n",
              "      background-color: #E8F0FE;\n",
              "      border: none;\n",
              "      border-radius: 50%;\n",
              "      cursor: pointer;\n",
              "      display: none;\n",
              "      fill: #1967D2;\n",
              "      height: 32px;\n",
              "      padding: 0 0 0 0;\n",
              "      width: 32px;\n",
              "    }\n",
              "\n",
              "    .colab-df-convert:hover {\n",
              "      background-color: #E2EBFA;\n",
              "      box-shadow: 0px 1px 2px rgba(60, 64, 67, 0.3), 0px 1px 3px 1px rgba(60, 64, 67, 0.15);\n",
              "      fill: #174EA6;\n",
              "    }\n",
              "\n",
              "    [theme=dark] .colab-df-convert {\n",
              "      background-color: #3B4455;\n",
              "      fill: #D2E3FC;\n",
              "    }\n",
              "\n",
              "    [theme=dark] .colab-df-convert:hover {\n",
              "      background-color: #434B5C;\n",
              "      box-shadow: 0px 1px 3px 1px rgba(0, 0, 0, 0.15);\n",
              "      filter: drop-shadow(0px 1px 2px rgba(0, 0, 0, 0.3));\n",
              "      fill: #FFFFFF;\n",
              "    }\n",
              "  </style>\n",
              "\n",
              "      <script>\n",
              "        const buttonEl =\n",
              "          document.querySelector('#df-da24da92-5b99-47f5-bc91-0b2a97ed848f button.colab-df-convert');\n",
              "        buttonEl.style.display =\n",
              "          google.colab.kernel.accessAllowed ? 'block' : 'none';\n",
              "\n",
              "        async function convertToInteractive(key) {\n",
              "          const element = document.querySelector('#df-da24da92-5b99-47f5-bc91-0b2a97ed848f');\n",
              "          const dataTable =\n",
              "            await google.colab.kernel.invokeFunction('convertToInteractive',\n",
              "                                                     [key], {});\n",
              "          if (!dataTable) return;\n",
              "\n",
              "          const docLinkHtml = 'Like what you see? Visit the ' +\n",
              "            '<a target=\"_blank\" href=https://colab.research.google.com/notebooks/data_table.ipynb>data table notebook</a>'\n",
              "            + ' to learn more about interactive tables.';\n",
              "          element.innerHTML = '';\n",
              "          dataTable['output_type'] = 'display_data';\n",
              "          await google.colab.output.renderOutput(dataTable, element);\n",
              "          const docLink = document.createElement('div');\n",
              "          docLink.innerHTML = docLinkHtml;\n",
              "          element.appendChild(docLink);\n",
              "        }\n",
              "      </script>\n",
              "    </div>\n",
              "  </div>\n",
              "  "
            ]
          },
          "metadata": {},
          "execution_count": 15
        }
      ]
    },
    {
      "cell_type": "code",
      "source": [
        "trim_data_correlation.dtypes"
      ],
      "metadata": {
        "colab": {
          "base_uri": "https://localhost:8080/"
        },
        "id": "w6zxzYftCNun",
        "outputId": "208a5991-f15f-4716-ec82-352fb304cb4e"
      },
      "execution_count": 16,
      "outputs": [
        {
          "output_type": "execute_result",
          "data": {
            "text/plain": [
              "floor_area_sqm        float64\n",
              "lease_remain_years      int64\n",
              "storey_median         float64\n",
              "resale_price          float64\n",
              "dtype: object"
            ]
          },
          "metadata": {},
          "execution_count": 16
        }
      ]
    },
    {
      "cell_type": "markdown",
      "source": [
        "The following code uses the seaborn library to create a heatmap of the correlation matrix of trim_data_correlation dataframe.\n",
        "\n",
        "The correlation matrix of the trim_data_correlation DataFrame is calculated using the .corr() method. The resulting correlation matrix is stored in a variable called corrMatrix.\n",
        "\n",
        "The sns.heatmap() function is used to create a heatmap of the correlation matrix. \n",
        "\n",
        "The resulting heatmap is a visual representation of the correlation matrix, with each cell representing the correlation coefficient between two variables. Darker colors indicate stronger positive correlations, while lighter colors indicate weaker or negative correlations. The diagonal line of the heatmap is always a solid color, as it represents the correlation between a variable and itself, which is always 1. The heatmap can be useful for identifying patterns in the data and determining which variables are correlated."
      ],
      "metadata": {
        "id": "sLBK280VoKSn"
      }
    },
    {
      "cell_type": "code",
      "source": [
        "import seaborn as sns\n",
        "\n",
        "corrMatrix = trim_data_correlation.corr()\n",
        "sns.heatmap(corrMatrix, \n",
        "        xticklabels=corrMatrix.columns,\n",
        "        yticklabels=corrMatrix.columns,\n",
        "        cmap='Set2',\n",
        "        annot=True)"
      ],
      "metadata": {
        "colab": {
          "base_uri": "https://localhost:8080/",
          "height": 376
        },
        "id": "gMGfroTdCSHE",
        "outputId": "44ced7f4-a233-4eb7-f968-d2203e9d52b0"
      },
      "execution_count": 17,
      "outputs": [
        {
          "output_type": "execute_result",
          "data": {
            "text/plain": [
              "<AxesSubplot:>"
            ]
          },
          "metadata": {},
          "execution_count": 17
        },
        {
          "output_type": "display_data",
          "data": {
            "text/plain": [
              "<Figure size 432x288 with 2 Axes>"
            ],
            "image/png": "[encoded data removed]"
          },
          "metadata": {
            "needs_background": "light"
          }
        }
      ]
    },
    {
      "cell_type": "markdown",
      "source": [
        "The heatmap was useful for identifying patterns in the data and determining which variables are correlated. Now, we will process the data to prepare the final data set which will be used to train and test the model."
      ],
      "metadata": {
        "id": "Wl5XX6NMqjYU"
      }
    },
    {
      "cell_type": "code",
      "source": [
        "from sklearn.preprocessing import OrdinalEncoder \n",
        "encoder = OrdinalEncoder() \n",
        "encoder.fit_transform(data[[\"flat_model\"]]) \n",
        "encoder.categories_"
      ],
      "metadata": {
        "colab": {
          "base_uri": "https://localhost:8080/"
        },
        "id": "dh5fMaauyh2_",
        "outputId": "fa8e1515-9f3d-48b2-ece1-6b550dd4cd8d"
      },
      "execution_count": 18,
      "outputs": [
        {
          "output_type": "execute_result",
          "data": {
            "text/plain": [
              "[array(['2-ROOM', '2-room', '3Gen', 'APARTMENT', 'Adjoined flat',\n",
              "        'Apartment', 'DBSS', 'IMPROVED', 'IMPROVED-MAISONETTE', 'Improved',\n",
              "        'Improved-Maisonette', 'MAISONETTE', 'MODEL A',\n",
              "        'MODEL A-MAISONETTE', 'MULTI GENERATION', 'Maisonette', 'Model A',\n",
              "        'Model A-Maisonette', 'Model A2', 'Multi Generation',\n",
              "        'NEW GENERATION', 'New Generation', 'PREMIUM APARTMENT',\n",
              "        'Premium Apartment', 'Premium Apartment Loft',\n",
              "        'Premium Maisonette', 'SIMPLIFIED', 'STANDARD', 'Simplified',\n",
              "        'Standard', 'TERRACE', 'Terrace', 'Type S1', 'Type S2'],\n",
              "       dtype=object)]"
            ]
          },
          "metadata": {},
          "execution_count": 18
        }
      ]
    },
    {
      "cell_type": "markdown",
      "source": [
        "The 'flat_model' column as shown above has inconsistent data which differs by Upper case and smaller case. Eg: '2-room' and '2-ROOM'.\n",
        "\n",
        "To make the data consistent, the following code converts all 'flat_model' the data to lower case."
      ],
      "metadata": {
        "id": "M0tejs0tyWZ9"
      }
    },
    {
      "cell_type": "code",
      "source": [
        "trim_data['flat_model'] = trim_data['flat_model'].apply(str.lower)\n",
        "trim_data = trim_data.drop([\"lease_remain_years\", \"storey_median\"], axis=1) \n",
        "trim_data.head(5) #printing 5 entries to check if the data is converted to lower case."
      ],
      "metadata": {
        "id": "KJO9HT_u2KoF",
        "colab": {
          "base_uri": "https://localhost:8080/",
          "height": 206
        },
        "outputId": "8092f64d-d474-4604-d341-ec0e11c78acf"
      },
      "execution_count": 19,
      "outputs": [
        {
          "output_type": "execute_result",
          "data": {
            "text/plain": [
              "     month        town flat_type storey_range  floor_area_sqm      flat_model  \\\n",
              "0  2015-01  ANG MO KIO    3 ROOM     07 TO 09            60.0        improved   \n",
              "1  2015-01  ANG MO KIO    3 ROOM     01 TO 03            68.0  new generation   \n",
              "2  2015-01  ANG MO KIO    3 ROOM     01 TO 03            69.0  new generation   \n",
              "3  2015-01  ANG MO KIO    3 ROOM     01 TO 03            68.0  new generation   \n",
              "4  2015-01  ANG MO KIO    3 ROOM     07 TO 09            68.0  new generation   \n",
              "\n",
              "   lease_commence_date  resale_price  \n",
              "0                 1986      255000.0  \n",
              "1                 1981      275000.0  \n",
              "2                 1980      285000.0  \n",
              "3                 1979      290000.0  \n",
              "4                 1980      290000.0  "
            ],
            "text/html": [
              "\n",
              "  <div id=\"df-31dd3256-02b6-4835-b9ad-32ea84b06277\">\n",
              "    <div class=\"colab-df-container\">\n",
              "      <div>\n",
              "<style scoped>\n",
              "    .dataframe tbody tr th:only-of-type {\n",
              "        vertical-align: middle;\n",
              "    }\n",
              "\n",
              "    .dataframe tbody tr th {\n",
              "        vertical-align: top;\n",
              "    }\n",
              "\n",
              "    .dataframe thead th {\n",
              "        text-align: right;\n",
              "    }\n",
              "</style>\n",
              "<table border=\"1\" class=\"dataframe\">\n",
              "  <thead>\n",
              "    <tr style=\"text-align: right;\">\n",
              "      <th></th>\n",
              "      <th>month</th>\n",
              "      <th>town</th>\n",
              "      <th>flat_type</th>\n",
              "      <th>storey_range</th>\n",
              "      <th>floor_area_sqm</th>\n",
              "      <th>flat_model</th>\n",
              "      <th>lease_commence_date</th>\n",
              "      <th>resale_price</th>\n",
              "    </tr>\n",
              "  </thead>\n",
              "  <tbody>\n",
              "    <tr>\n",
              "      <th>0</th>\n",
              "      <td>2015-01</td>\n",
              "      <td>ANG MO KIO</td>\n",
              "      <td>3 ROOM</td>\n",
              "      <td>07 TO 09</td>\n",
              "      <td>60.0</td>\n",
              "      <td>improved</td>\n",
              "      <td>1986</td>\n",
              "      <td>255000.0</td>\n",
              "    </tr>\n",
              "    <tr>\n",
              "      <th>1</th>\n",
              "      <td>2015-01</td>\n",
              "      <td>ANG MO KIO</td>\n",
              "      <td>3 ROOM</td>\n",
              "      <td>01 TO 03</td>\n",
              "      <td>68.0</td>\n",
              "      <td>new generation</td>\n",
              "      <td>1981</td>\n",
              "      <td>275000.0</td>\n",
              "    </tr>\n",
              "    <tr>\n",
              "      <th>2</th>\n",
              "      <td>2015-01</td>\n",
              "      <td>ANG MO KIO</td>\n",
              "      <td>3 ROOM</td>\n",
              "      <td>01 TO 03</td>\n",
              "      <td>69.0</td>\n",
              "      <td>new generation</td>\n",
              "      <td>1980</td>\n",
              "      <td>285000.0</td>\n",
              "    </tr>\n",
              "    <tr>\n",
              "      <th>3</th>\n",
              "      <td>2015-01</td>\n",
              "      <td>ANG MO KIO</td>\n",
              "      <td>3 ROOM</td>\n",
              "      <td>01 TO 03</td>\n",
              "      <td>68.0</td>\n",
              "      <td>new generation</td>\n",
              "      <td>1979</td>\n",
              "      <td>290000.0</td>\n",
              "    </tr>\n",
              "    <tr>\n",
              "      <th>4</th>\n",
              "      <td>2015-01</td>\n",
              "      <td>ANG MO KIO</td>\n",
              "      <td>3 ROOM</td>\n",
              "      <td>07 TO 09</td>\n",
              "      <td>68.0</td>\n",
              "      <td>new generation</td>\n",
              "      <td>1980</td>\n",
              "      <td>290000.0</td>\n",
              "    </tr>\n",
              "  </tbody>\n",
              "</table>\n",
              "</div>\n",
              "      <button class=\"colab-df-convert\" onclick=\"convertToInteractive('df-31dd3256-02b6-4835-b9ad-32ea84b06277')\"\n",
              "              title=\"Convert this dataframe to an interactive table.\"\n",
              "              style=\"display:none;\">\n",
              "        \n",
              "  <svg xmlns=\"http://www.w3.org/2000/svg\" height=\"24px\"viewBox=\"0 0 24 24\"\n",
              "       width=\"24px\">\n",
              "    <path d=\"M0 0h24v24H0V0z\" fill=\"none\"/>\n",
              "    <path d=\"M18.56 5.44l.94 2.06.94-2.06 2.06-.94-2.06-.94-.94-2.06-.94 2.06-2.06.94zm-11 1L8.5 8.5l.94-2.06 2.06-.94-2.06-.94L8.5 2.5l-.94 2.06-2.06.94zm10 10l.94 2.06.94-2.06 2.06-.94-2.06-.94-.94-2.06-.94 2.06-2.06.94z\"/><path d=\"M17.41 7.96l-1.37-1.37c-.4-.4-.92-.59-1.43-.59-.52 0-1.04.2-1.43.59L10.3 9.45l-7.72 7.72c-.78.78-.78 2.05 0 2.83L4 21.41c.39.39.9.59 1.41.59.51 0 1.02-.2 1.41-.59l7.78-7.78 2.81-2.81c.8-.78.8-2.07 0-2.86zM5.41 20L4 18.59l7.72-7.72 1.47 1.35L5.41 20z\"/>\n",
              "  </svg>\n",
              "      </button>\n",
              "      \n",
              "  <style>\n",
              "    .colab-df-container {\n",
              "      display:flex;\n",
              "      flex-wrap:wrap;\n",
              "      gap: 12px;\n",
              "    }\n",
              "\n",
              "    .colab-df-convert {\n",
              "      background-color: #E8F0FE;\n",
              "      border: none;\n",
              "      border-radius: 50%;\n",
              "      cursor: pointer;\n",
              "      display: none;\n",
              "      fill: #1967D2;\n",
              "      height: 32px;\n",
              "      padding: 0 0 0 0;\n",
              "      width: 32px;\n",
              "    }\n",
              "\n",
              "    .colab-df-convert:hover {\n",
              "      background-color: #E2EBFA;\n",
              "      box-shadow: 0px 1px 2px rgba(60, 64, 67, 0.3), 0px 1px 3px 1px rgba(60, 64, 67, 0.15);\n",
              "      fill: #174EA6;\n",
              "    }\n",
              "\n",
              "    [theme=dark] .colab-df-convert {\n",
              "      background-color: #3B4455;\n",
              "      fill: #D2E3FC;\n",
              "    }\n",
              "\n",
              "    [theme=dark] .colab-df-convert:hover {\n",
              "      background-color: #434B5C;\n",
              "      box-shadow: 0px 1px 3px 1px rgba(0, 0, 0, 0.15);\n",
              "      filter: drop-shadow(0px 1px 2px rgba(0, 0, 0, 0.3));\n",
              "      fill: #FFFFFF;\n",
              "    }\n",
              "  </style>\n",
              "\n",
              "      <script>\n",
              "        const buttonEl =\n",
              "          document.querySelector('#df-31dd3256-02b6-4835-b9ad-32ea84b06277 button.colab-df-convert');\n",
              "        buttonEl.style.display =\n",
              "          google.colab.kernel.accessAllowed ? 'block' : 'none';\n",
              "\n",
              "        async function convertToInteractive(key) {\n",
              "          const element = document.querySelector('#df-31dd3256-02b6-4835-b9ad-32ea84b06277');\n",
              "          const dataTable =\n",
              "            await google.colab.kernel.invokeFunction('convertToInteractive',\n",
              "                                                     [key], {});\n",
              "          if (!dataTable) return;\n",
              "\n",
              "          const docLinkHtml = 'Like what you see? Visit the ' +\n",
              "            '<a target=\"_blank\" href=https://colab.research.google.com/notebooks/data_table.ipynb>data table notebook</a>'\n",
              "            + ' to learn more about interactive tables.';\n",
              "          element.innerHTML = '';\n",
              "          dataTable['output_type'] = 'display_data';\n",
              "          await google.colab.output.renderOutput(dataTable, element);\n",
              "          const docLink = document.createElement('div');\n",
              "          docLink.innerHTML = docLinkHtml;\n",
              "          element.appendChild(docLink);\n",
              "        }\n",
              "      </script>\n",
              "    </div>\n",
              "  </div>\n",
              "  "
            ]
          },
          "metadata": {},
          "execution_count": 19
        }
      ]
    },
    {
      "cell_type": "markdown",
      "source": [
        "Regression is performed on numerical data, but not all of the data we have is numerical. For this data, we will need to transform into numerical values. . \n",
        "The non-numerical data in our data set includes the data fields -\n",
        "[\"month\", \"flat_type\", \"storey_range\", \"town\", \"flat_model\"]  \n"
      ],
      "metadata": {
        "id": "iyx58ladGbxh"
      }
    },
    {
      "cell_type": "code",
      "source": [
        "from sklearn.preprocessing import OrdinalEncoder \n",
        "from sklearn.preprocessing import OneHotEncoder \n",
        "from sklearn.compose import ColumnTransformer \n",
        "pipeline = ColumnTransformer([ \n",
        "(\"o\", OrdinalEncoder(), [\"month\",\"flat_type\",\"storey_range\"]), \n",
        "(\"n\", OneHotEncoder(), [\"town\", \"flat_model\"]), \n",
        "], remainder='passthrough') \n",
        "X_with_resale_price = pipeline.fit_transform(trim_data) \n",
        "y = trim_data[\"resale_price\"] \n"
      ],
      "metadata": {
        "id": "vU1xIOULn5ja"
      },
      "execution_count": 20,
      "outputs": []
    },
    {
      "cell_type": "code",
      "source": [
        "from sklearn.preprocessing import OrdinalEncoder \n",
        "from sklearn.preprocessing import OneHotEncoder \n",
        "from sklearn.compose import ColumnTransformer \n",
        "pipeline = ColumnTransformer([ \n",
        "(\"o\", OrdinalEncoder(), [\"month\",\"flat_type\",\"storey_range\"]), \n",
        "(\"n\", OneHotEncoder(), [\"town\", \"flat_model\"]), \n",
        "], remainder='passthrough') \n",
        "X = pipeline.fit_transform(trim_data.drop([\"resale_price\"], axis=1)) \n",
        "y = trim_data[\"resale_price\"] "
      ],
      "metadata": {
        "id": "9pWT1zpM1YKk"
      },
      "execution_count": 21,
      "outputs": []
    },
    {
      "cell_type": "markdown",
      "source": [
        "X contains all the data fields except the 'resale_price' column, however, X_with_resale_price contains all the data fields with the 'resale_price' column."
      ],
      "metadata": {
        "id": "wTBzV3SxG-yS"
      }
    },
    {
      "cell_type": "code",
      "source": [
        "X.shape"
      ],
      "metadata": {
        "colab": {
          "base_uri": "https://localhost:8080/"
        },
        "id": "ysg0zcHdhsS6",
        "outputId": "e06b8a98-5277-476d-fedf-49fc0c53c0e9"
      },
      "execution_count": 22,
      "outputs": [
        {
          "output_type": "execute_result",
          "data": {
            "text/plain": [
              "(894203, 53)"
            ]
          },
          "metadata": {},
          "execution_count": 22
        }
      ]
    },
    {
      "cell_type": "code",
      "source": [
        "X_with_resale_price.shape"
      ],
      "metadata": {
        "colab": {
          "base_uri": "https://localhost:8080/"
        },
        "id": "FKsn5robHZww",
        "outputId": "d8a2e4f5-fa88-4d82-a8ae-b654797bfd9d"
      },
      "execution_count": 23,
      "outputs": [
        {
          "output_type": "execute_result",
          "data": {
            "text/plain": [
              "(894203, 54)"
            ]
          },
          "metadata": {},
          "execution_count": 23
        }
      ]
    },
    {
      "cell_type": "code",
      "source": [
        "encoder = OrdinalEncoder() \n",
        "encoder.fit_transform(data[[\"town\"]]) \n",
        "encoder.categories_"
      ],
      "metadata": {
        "colab": {
          "base_uri": "https://localhost:8080/"
        },
        "id": "_ZSEeVU9IJ_G",
        "outputId": "d3dd5a1f-33d5-4edf-c4e5-67cd47f1a8f6"
      },
      "execution_count": 24,
      "outputs": [
        {
          "output_type": "execute_result",
          "data": {
            "text/plain": [
              "[array(['ANG MO KIO', 'BEDOK', 'BISHAN', 'BUKIT BATOK', 'BUKIT MERAH',\n",
              "        'BUKIT PANJANG', 'BUKIT TIMAH', 'CENTRAL AREA', 'CHOA CHU KANG',\n",
              "        'CLEMENTI', 'GEYLANG', 'HOUGANG', 'JURONG EAST', 'JURONG WEST',\n",
              "        'KALLANG/WHAMPOA', 'LIM CHU KANG', 'MARINE PARADE', 'PASIR RIS',\n",
              "        'PUNGGOL', 'QUEENSTOWN', 'SEMBAWANG', 'SENGKANG', 'SERANGOON',\n",
              "        'TAMPINES', 'TOA PAYOH', 'WOODLANDS', 'YISHUN'], dtype=object)]"
            ]
          },
          "metadata": {},
          "execution_count": 24
        }
      ]
    },
    {
      "cell_type": "code",
      "source": [
        "encoder = OrdinalEncoder() \n",
        "encoder.fit_transform(data[[\"month\"]]) \n",
        "encoder.categories_"
      ],
      "metadata": {
        "colab": {
          "base_uri": "https://localhost:8080/"
        },
        "id": "79oLdCF51c0F",
        "outputId": "110caf67-e5f9-46a3-bdb8-16343ad35686"
      },
      "execution_count": 25,
      "outputs": [
        {
          "output_type": "execute_result",
          "data": {
            "text/plain": [
              "[array(['1990-01', '1990-02', '1990-03', '1990-04', '1990-05', '1990-06',\n",
              "        '1990-07', '1990-08', '1990-09', '1990-10', '1990-11', '1990-12',\n",
              "        '1991-01', '1991-02', '1991-03', '1991-04', '1991-05', '1991-06',\n",
              "        '1991-07', '1991-08', '1991-09', '1991-10', '1991-11', '1991-12',\n",
              "        '1992-01', '1992-02', '1992-03', '1992-04', '1992-05', '1992-06',\n",
              "        '1992-07', '1992-08', '1992-09', '1992-10', '1992-11', '1992-12',\n",
              "        '1993-01', '1993-02', '1993-03', '1993-04', '1993-05', '1993-06',\n",
              "        '1993-07', '1993-08', '1993-09', '1993-10', '1993-11', '1993-12',\n",
              "        '1994-01', '1994-02', '1994-03', '1994-04', '1994-05', '1994-06',\n",
              "        '1994-07', '1994-08', '1994-09', '1994-10', '1994-11', '1994-12',\n",
              "        '1995-01', '1995-02', '1995-03', '1995-04', '1995-05', '1995-06',\n",
              "        '1995-07', '1995-08', '1995-09', '1995-10', '1995-11', '1995-12',\n",
              "        '1996-01', '1996-02', '1996-03', '1996-04', '1996-05', '1996-06',\n",
              "        '1996-07', '1996-08', '1996-09', '1996-10', '1996-11', '1996-12',\n",
              "        '1997-01', '1997-02', '1997-03', '1997-04', '1997-05', '1997-06',\n",
              "        '1997-07', '1997-08', '1997-09', '1997-10', '1997-11', '1997-12',\n",
              "        '1998-01', '1998-02', '1998-03', '1998-04', '1998-05', '1998-06',\n",
              "        '1998-07', '1998-08', '1998-09', '1998-10', '1998-11', '1998-12',\n",
              "        '1999-01', '1999-02', '1999-03', '1999-04', '1999-05', '1999-06',\n",
              "        '1999-07', '1999-08', '1999-09', '1999-10', '1999-11', '1999-12',\n",
              "        '2000-01', '2000-02', '2000-03', '2000-04', '2000-05', '2000-06',\n",
              "        '2000-07', '2000-08', '2000-09', '2000-10', '2000-11', '2000-12',\n",
              "        '2001-01', '2001-02', '2001-03', '2001-04', '2001-05', '2001-06',\n",
              "        '2001-07', '2001-08', '2001-09', '2001-10', '2001-11', '2001-12',\n",
              "        '2002-01', '2002-02', '2002-03', '2002-04', '2002-05', '2002-06',\n",
              "        '2002-07', '2002-08', '2002-09', '2002-10', '2002-11', '2002-12',\n",
              "        '2003-01', '2003-02', '2003-03', '2003-04', '2003-05', '2003-06',\n",
              "        '2003-07', '2003-08', '2003-09', '2003-10', '2003-11', '2003-12',\n",
              "        '2004-01', '2004-02', '2004-03', '2004-04', '2004-05', '2004-06',\n",
              "        '2004-07', '2004-08', '2004-09', '2004-10', '2004-11', '2004-12',\n",
              "        '2005-01', '2005-02', '2005-03', '2005-04', '2005-05', '2005-06',\n",
              "        '2005-07', '2005-08', '2005-09', '2005-10', '2005-11', '2005-12',\n",
              "        '2006-01', '2006-02', '2006-03', '2006-04', '2006-05', '2006-06',\n",
              "        '2006-07', '2006-08', '2006-09', '2006-10', '2006-11', '2006-12',\n",
              "        '2007-01', '2007-02', '2007-03', '2007-04', '2007-05', '2007-06',\n",
              "        '2007-07', '2007-08', '2007-09', '2007-10', '2007-11', '2007-12',\n",
              "        '2008-01', '2008-02', '2008-03', '2008-04', '2008-05', '2008-06',\n",
              "        '2008-07', '2008-08', '2008-09', '2008-10', '2008-11', '2008-12',\n",
              "        '2009-01', '2009-02', '2009-03', '2009-04', '2009-05', '2009-06',\n",
              "        '2009-07', '2009-08', '2009-09', '2009-10', '2009-11', '2009-12',\n",
              "        '2010-01', '2010-02', '2010-03', '2010-04', '2010-05', '2010-06',\n",
              "        '2010-07', '2010-08', '2010-09', '2010-10', '2010-11', '2010-12',\n",
              "        '2011-01', '2011-02', '2011-03', '2011-04', '2011-05', '2011-06',\n",
              "        '2011-07', '2011-08', '2011-09', '2011-10', '2011-11', '2011-12',\n",
              "        '2012-01', '2012-02', '2012-03', '2012-04', '2012-05', '2012-06',\n",
              "        '2012-07', '2012-08', '2012-09', '2012-10', '2012-11', '2012-12',\n",
              "        '2013-01', '2013-02', '2013-03', '2013-04', '2013-05', '2013-06',\n",
              "        '2013-07', '2013-08', '2013-09', '2013-10', '2013-11', '2013-12',\n",
              "        '2014-01', '2014-02', '2014-03', '2014-04', '2014-05', '2014-06',\n",
              "        '2014-07', '2014-08', '2014-09', '2014-10', '2014-11', '2014-12',\n",
              "        '2015-01', '2015-02', '2015-03', '2015-04', '2015-05', '2015-06',\n",
              "        '2015-07', '2015-08', '2015-09', '2015-10', '2015-11', '2015-12',\n",
              "        '2016-01', '2016-02', '2016-03', '2016-04', '2016-05', '2016-06',\n",
              "        '2016-07', '2016-08', '2016-09', '2016-10', '2016-11', '2016-12',\n",
              "        '2017-01', '2017-02', '2017-03', '2017-04', '2017-05', '2017-06',\n",
              "        '2017-07', '2017-08', '2017-09', '2017-10', '2017-11', '2017-12',\n",
              "        '2018-01', '2018-02', '2018-03', '2018-04', '2018-05', '2018-06',\n",
              "        '2018-07', '2018-08', '2018-09', '2018-10', '2018-11', '2018-12',\n",
              "        '2019-01', '2019-02', '2019-03', '2019-04', '2019-05', '2019-06',\n",
              "        '2019-07', '2019-08', '2019-09', '2019-10', '2019-11', '2019-12',\n",
              "        '2020-01', '2020-02', '2020-03', '2020-04', '2020-05', '2020-06',\n",
              "        '2020-07', '2020-08', '2020-09', '2020-10', '2020-11', '2020-12',\n",
              "        '2021-01', '2021-02', '2021-03', '2021-04', '2021-05', '2021-06',\n",
              "        '2021-07', '2021-08', '2021-09', '2021-10', '2021-11', '2021-12',\n",
              "        '2022-01', '2022-02', '2022-03', '2022-04', '2022-05', '2022-06',\n",
              "        '2022-07', '2022-08', '2022-09', '2022-10', '2022-11', '2022-12',\n",
              "        '2023-01', '2023-02', '2023-03'], dtype=object)]"
            ]
          },
          "metadata": {},
          "execution_count": 25
        }
      ]
    },
    {
      "cell_type": "code",
      "source": [
        "encoder = OrdinalEncoder() \n",
        "encoder.fit_transform(trim_data[[\"storey_range\"]]) \n",
        "encoder.categories_"
      ],
      "metadata": {
        "colab": {
          "base_uri": "https://localhost:8080/"
        },
        "id": "gcfCSmQG1hQH",
        "outputId": "94b7030b-3605-4181-b554-12d199510148"
      },
      "execution_count": 26,
      "outputs": [
        {
          "output_type": "execute_result",
          "data": {
            "text/plain": [
              "[array(['01 TO 03', '01 TO 05', '04 TO 06', '06 TO 10', '07 TO 09',\n",
              "        '10 TO 12', '11 TO 15', '13 TO 15', '16 TO 18', '16 TO 20',\n",
              "        '19 TO 21', '21 TO 25', '22 TO 24', '25 TO 27', '26 TO 30',\n",
              "        '28 TO 30', '31 TO 33', '31 TO 35', '34 TO 36', '36 TO 40',\n",
              "        '37 TO 39', '40 TO 42', '43 TO 45', '46 TO 48', '49 TO 51'],\n",
              "       dtype=object)]"
            ]
          },
          "metadata": {},
          "execution_count": 26
        }
      ]
    },
    {
      "cell_type": "code",
      "source": [
        "encoder = OrdinalEncoder() \n",
        "encoder.fit_transform(trim_data[[\"flat_type\"]]) \n",
        "encoder.categories_"
      ],
      "metadata": {
        "colab": {
          "base_uri": "https://localhost:8080/"
        },
        "id": "Dkm9NUkH1lzg",
        "outputId": "bfe03869-fdc0-443e-cd71-235867e12ffc"
      },
      "execution_count": 27,
      "outputs": [
        {
          "output_type": "execute_result",
          "data": {
            "text/plain": [
              "[array(['1 ROOM', '2 ROOM', '3 ROOM', '4 ROOM', '5 ROOM', 'EXECUTIVE',\n",
              "        'MULTI GENERATION', 'MULTI-GENERATION'], dtype=object)]"
            ]
          },
          "metadata": {},
          "execution_count": 27
        }
      ]
    },
    {
      "cell_type": "code",
      "source": [
        "encoder = OrdinalEncoder() \n",
        "encoder.fit_transform(trim_data[[\"flat_model\"]]) \n",
        "encoder.categories_"
      ],
      "metadata": {
        "colab": {
          "base_uri": "https://localhost:8080/"
        },
        "id": "cxuZA4JT4yrT",
        "outputId": "fd187910-46f2-45a4-f9e9-71a16b445c11"
      },
      "execution_count": 28,
      "outputs": [
        {
          "output_type": "execute_result",
          "data": {
            "text/plain": [
              "[array(['2-room', '3gen', 'adjoined flat', 'apartment', 'dbss', 'improved',\n",
              "        'improved-maisonette', 'maisonette', 'model a',\n",
              "        'model a-maisonette', 'model a2', 'multi generation',\n",
              "        'new generation', 'premium apartment', 'premium apartment loft',\n",
              "        'premium maisonette', 'simplified', 'standard', 'terrace',\n",
              "        'type s1', 'type s2'], dtype=object)]"
            ]
          },
          "metadata": {},
          "execution_count": 28
        }
      ]
    },
    {
      "cell_type": "markdown",
      "source": [
        "Downloading the data files"
      ],
      "metadata": {
        "id": "tR-_Jli5cUeA"
      }
    },
    {
      "cell_type": "code",
      "source": [
        "from google.colab import files\n",
        "data.to_csv('Complete_data.csv') \n",
        "files.download('Complete_data.csv')"
      ],
      "metadata": {
        "colab": {
          "base_uri": "https://localhost:8080/",
          "height": 34
        },
        "id": "p84VyPJsTv9x",
        "outputId": "830136f6-3c6e-46fe-dd0f-04f300c18914"
      },
      "execution_count": 29,
      "outputs": [
        {
          "output_type": "display_data",
          "data": {
            "text/plain": [
              "<IPython.core.display.Javascript object>"
            ],
            "application/javascript": [
              "\n",
              "    async function download(id, filename, size) {\n",
              "      if (!google.colab.kernel.accessAllowed) {\n",
              "        return;\n",
              "      }\n",
              "      const div = document.createElement('div');\n",
              "      const label = document.createElement('label');\n",
              "      label.textContent = `Downloading \"${filename}\": `;\n",
              "      div.appendChild(label);\n",
              "      const progress = document.createElement('progress');\n",
              "      progress.max = size;\n",
              "      div.appendChild(progress);\n",
              "      document.body.appendChild(div);\n",
              "\n",
              "      const buffers = [];\n",
              "      let downloaded = 0;\n",
              "\n",
              "      const channel = await google.colab.kernel.comms.open(id);\n",
              "      // Send a message to notify the kernel that we're ready.\n",
              "      channel.send({})\n",
              "\n",
              "      for await (const message of channel.messages) {\n",
              "        // Send a message to notify the kernel that we're ready.\n",
              "        channel.send({})\n",
              "        if (message.buffers) {\n",
              "          for (const buffer of message.buffers) {\n",
              "            buffers.push(buffer);\n",
              "            downloaded += buffer.byteLength;\n",
              "            progress.value = downloaded;\n",
              "          }\n",
              "        }\n",
              "      }\n",
              "      const blob = new Blob(buffers, {type: 'application/binary'});\n",
              "      const a = document.createElement('a');\n",
              "      a.href = window.URL.createObjectURL(blob);\n",
              "      a.download = filename;\n",
              "      div.appendChild(a);\n",
              "      a.click();\n",
              "      div.remove();\n",
              "    }\n",
              "  "
            ]
          },
          "metadata": {}
        },
        {
          "output_type": "display_data",
          "data": {
            "text/plain": [
              "<IPython.core.display.Javascript object>"
            ],
            "application/javascript": [
              "download(\"download_4b8ea464-59e2-4f37-8553-d1323687050b\", \"Complete_data.csv\", 90291071)"
            ]
          },
          "metadata": {}
        }
      ]
    },
    {
      "cell_type": "code",
      "source": [
        "from google.colab import files\n",
        "trim_data.to_csv('Trim_Data.csv', index = False)\n",
        "files.download('Trim_Data.csv')"
      ],
      "metadata": {
        "colab": {
          "base_uri": "https://localhost:8080/",
          "height": 34
        },
        "id": "wnjRUy0KT1UL",
        "outputId": "221bbce9-a206-4d40-b2c9-153205f6b1aa"
      },
      "execution_count": 30,
      "outputs": [
        {
          "output_type": "display_data",
          "data": {
            "text/plain": [
              "<IPython.core.display.Javascript object>"
            ],
            "application/javascript": [
              "\n",
              "    async function download(id, filename, size) {\n",
              "      if (!google.colab.kernel.accessAllowed) {\n",
              "        return;\n",
              "      }\n",
              "      const div = document.createElement('div');\n",
              "      const label = document.createElement('label');\n",
              "      label.textContent = `Downloading \"${filename}\": `;\n",
              "      div.appendChild(label);\n",
              "      const progress = document.createElement('progress');\n",
              "      progress.max = size;\n",
              "      div.appendChild(progress);\n",
              "      document.body.appendChild(div);\n",
              "\n",
              "      const buffers = [];\n",
              "      let downloaded = 0;\n",
              "\n",
              "      const channel = await google.colab.kernel.comms.open(id);\n",
              "      // Send a message to notify the kernel that we're ready.\n",
              "      channel.send({})\n",
              "\n",
              "      for await (const message of channel.messages) {\n",
              "        // Send a message to notify the kernel that we're ready.\n",
              "        channel.send({})\n",
              "        if (message.buffers) {\n",
              "          for (const buffer of message.buffers) {\n",
              "            buffers.push(buffer);\n",
              "            downloaded += buffer.byteLength;\n",
              "            progress.value = downloaded;\n",
              "          }\n",
              "        }\n",
              "      }\n",
              "      const blob = new Blob(buffers, {type: 'application/binary'});\n",
              "      const a = document.createElement('a');\n",
              "      a.href = window.URL.createObjectURL(blob);\n",
              "      a.download = filename;\n",
              "      div.appendChild(a);\n",
              "      a.click();\n",
              "      div.remove();\n",
              "    }\n",
              "  "
            ]
          },
          "metadata": {}
        },
        {
          "output_type": "display_data",
          "data": {
            "text/plain": [
              "<IPython.core.display.Javascript object>"
            ],
            "application/javascript": [
              "download(\"download_14e6cb37-6b66-4ec9-9200-b95dccc44f3c\", \"Trim_Data.csv\", 57510122)"
            ]
          },
          "metadata": {}
        }
      ]
    },
    {
      "cell_type": "code",
      "source": [
        "from google.colab import files\n",
        "trim_data_correlation.to_csv('Correlation_data.csv', index = False)\n",
        "trim_data.to_csv('Correlation_data.csv', index = False)\n",
        "files.download('Correlation_data.csv')"
      ],
      "metadata": {
        "colab": {
          "base_uri": "https://localhost:8080/",
          "height": 34
        },
        "id": "v8kyJHu4T83S",
        "outputId": "29cde293-f831-49af-c474-96c8afd2c93c"
      },
      "execution_count": 31,
      "outputs": [
        {
          "output_type": "display_data",
          "data": {
            "text/plain": [
              "<IPython.core.display.Javascript object>"
            ],
            "application/javascript": [
              "\n",
              "    async function download(id, filename, size) {\n",
              "      if (!google.colab.kernel.accessAllowed) {\n",
              "        return;\n",
              "      }\n",
              "      const div = document.createElement('div');\n",
              "      const label = document.createElement('label');\n",
              "      label.textContent = `Downloading \"${filename}\": `;\n",
              "      div.appendChild(label);\n",
              "      const progress = document.createElement('progress');\n",
              "      progress.max = size;\n",
              "      div.appendChild(progress);\n",
              "      document.body.appendChild(div);\n",
              "\n",
              "      const buffers = [];\n",
              "      let downloaded = 0;\n",
              "\n",
              "      const channel = await google.colab.kernel.comms.open(id);\n",
              "      // Send a message to notify the kernel that we're ready.\n",
              "      channel.send({})\n",
              "\n",
              "      for await (const message of channel.messages) {\n",
              "        // Send a message to notify the kernel that we're ready.\n",
              "        channel.send({})\n",
              "        if (message.buffers) {\n",
              "          for (const buffer of message.buffers) {\n",
              "            buffers.push(buffer);\n",
              "            downloaded += buffer.byteLength;\n",
              "            progress.value = downloaded;\n",
              "          }\n",
              "        }\n",
              "      }\n",
              "      const blob = new Blob(buffers, {type: 'application/binary'});\n",
              "      const a = document.createElement('a');\n",
              "      a.href = window.URL.createObjectURL(blob);\n",
              "      a.download = filename;\n",
              "      div.appendChild(a);\n",
              "      a.click();\n",
              "      div.remove();\n",
              "    }\n",
              "  "
            ]
          },
          "metadata": {}
        },
        {
          "output_type": "display_data",
          "data": {
            "text/plain": [
              "<IPython.core.display.Javascript object>"
            ],
            "application/javascript": [
              "download(\"download_e05f10cd-c7db-46d5-8970-a68147faf2f8\", \"Correlation_data.csv\", 57510122)"
            ]
          },
          "metadata": {}
        }
      ]
    },
    {
      "cell_type": "markdown",
      "source": [
        "Each transaction (i.e., row) contains 53 data fields (i.e., columns).\n",
        "We will assign names to each column subsequently. "
      ],
      "metadata": {
        "id": "LzPykSG0Dcrd"
      }
    },
    {
      "cell_type": "code",
      "source": [
        "X.toarray()[0] #checking the first entry of the data-set"
      ],
      "metadata": {
        "colab": {
          "base_uri": "https://localhost:8080/"
        },
        "id": "le_VEnLt5AYu",
        "outputId": "a45173fc-2c01-4e5d-bff5-c50184b1f1fb"
      },
      "execution_count": 32,
      "outputs": [
        {
          "output_type": "execute_result",
          "data": {
            "text/plain": [
              "array([3.000e+02, 2.000e+00, 4.000e+00, 1.000e+00, 0.000e+00, 0.000e+00,\n",
              "       0.000e+00, 0.000e+00, 0.000e+00, 0.000e+00, 0.000e+00, 0.000e+00,\n",
              "       0.000e+00, 0.000e+00, 0.000e+00, 0.000e+00, 0.000e+00, 0.000e+00,\n",
              "       0.000e+00, 0.000e+00, 0.000e+00, 0.000e+00, 0.000e+00, 0.000e+00,\n",
              "       0.000e+00, 0.000e+00, 0.000e+00, 0.000e+00, 0.000e+00, 0.000e+00,\n",
              "       0.000e+00, 0.000e+00, 0.000e+00, 0.000e+00, 0.000e+00, 1.000e+00,\n",
              "       0.000e+00, 0.000e+00, 0.000e+00, 0.000e+00, 0.000e+00, 0.000e+00,\n",
              "       0.000e+00, 0.000e+00, 0.000e+00, 0.000e+00, 0.000e+00, 0.000e+00,\n",
              "       0.000e+00, 0.000e+00, 0.000e+00, 6.000e+01, 1.986e+03])"
            ]
          },
          "metadata": {},
          "execution_count": 32
        }
      ]
    },
    {
      "cell_type": "markdown",
      "source": [
        "Having prepared our data, we are now ready to perform regression on it. In the Python code below I perform linear regression and report the model 𝑅^2:"
      ],
      "metadata": {
        "id": "DBh2P0nHDSAY"
      }
    },
    {
      "cell_type": "code",
      "source": [
        "from sklearn.linear_model import LinearRegression \n",
        "lr = LinearRegression() \n",
        "lr.fit(X, y) \n",
        "print(\"Intercept: \", lr.intercept_) \n",
        "print(\"Coefficient: \", lr.coef_) \n",
        "print(\"R-sq of model: \", lr.score(X, y))"
      ],
      "metadata": {
        "colab": {
          "base_uri": "https://localhost:8080/"
        },
        "id": "hU75J0De58fI",
        "outputId": "51294872-fca9-41ae-c8dd-38db30eff8c6"
      },
      "execution_count": 33,
      "outputs": [
        {
          "output_type": "stream",
          "name": "stdout",
          "text": [
            "Intercept:  -6334162.456204808\n",
            "Coefficient:  [    845.43504934   41040.73349139    5582.07109283   17950.30133105\n",
            "    7521.54862231   70289.91509922  -26712.24350379   76751.04059092\n",
            "  -71297.67283541  102156.74814075   63058.51847715  -71688.20742874\n",
            "   32309.93437463   29638.96891507  -25025.94230027  -26012.015541\n",
            "  -57398.96460136   43572.95594543   -7545.29987161  103819.12402913\n",
            "  -26160.51643569  -60601.98040557   76276.71142158 -108113.9927657\n",
            "  -73478.7367901     6415.01398081   -3142.90447368   47994.08366223\n",
            "  -84954.3564969   -35622.03114007  -29442.60517649    2677.2168179\n",
            "  -66344.57377618  -58283.62995009   91753.30427272  -76888.45563992\n",
            "   10083.90267484  -44813.0439939   -69904.95328862  -27879.42920211\n",
            "  -93374.25946249 -105296.90782535  -68941.05248274  -68056.05672553\n",
            "  102429.92772683   -3218.36056242  -82826.36810485  -75821.45152706\n",
            "  147231.99285721  253753.69787582  263161.10549284    1899.78281385\n",
            "    3139.81895261]\n",
            "R-sq of model:  0.8287881265494992\n"
          ]
        }
      ]
    },
    {
      "cell_type": "markdown",
      "source": [
        "Performing Decision Tree Regression on the data below and reporting the model 𝑅^2:"
      ],
      "metadata": {
        "id": "LIe4BeQpEV0Q"
      }
    },
    {
      "cell_type": "code",
      "source": [
        "from sklearn.tree import DecisionTreeRegressor\n",
        "dtr = DecisionTreeRegressor(criterion='friedman_mse', max_depth=12, min_samples_leaf=1, random_state=0).fit(X, y)\n",
        "print(\"R-sq of model: \", dtr.score(X, y))"
      ],
      "metadata": {
        "colab": {
          "base_uri": "https://localhost:8080/"
        },
        "id": "ossSc33x6KHz",
        "outputId": "3f205b80-755c-46de-a2ca-4f6db1e86868"
      },
      "execution_count": 34,
      "outputs": [
        {
          "output_type": "stream",
          "name": "stdout",
          "text": [
            "R-sq of model:  0.9211873379843262\n"
          ]
        }
      ]
    },
    {
      "cell_type": "markdown",
      "source": [
        "Let us now try to predict the Price of a House in Singapore."
      ],
      "metadata": {
        "id": "ew7ynI_tEpu_"
      }
    },
    {
      "cell_type": "code",
      "source": [
        "import numpy as np \n",
        "input = np.zeros(53) \n",
        "input[0] = 2 #set month to Mar 2017\n",
        "input[1] = 4 #set flat type to 5-Room\n",
        "input[2] = 11 #set storey range to 25\n",
        "input[22] = 1 #set town to Punggol\n",
        "input[47] = 1 #set flat model to Standard\n",
        "input[51] = 80 #set floor area to 80 sqm\n",
        "input[52] = 2001 #set lease commencement to 2001\n",
        "print(input) \n",
        "print(\"Estimated resale price (linear regression)=> \", lr.predict([input])) \n",
        "print(\"Estimated resale price (DT regression)=> \", dtr.predict([input]))"
      ],
      "metadata": {
        "colab": {
          "base_uri": "https://localhost:8080/"
        },
        "id": "eB5Va3-m_3MI",
        "outputId": "0593784c-9d59-4117-c512-2ced2c24ebd5"
      },
      "execution_count": 35,
      "outputs": [
        {
          "output_type": "stream",
          "name": "stdout",
          "text": [
            "[2.000e+00 4.000e+00 1.100e+01 0.000e+00 0.000e+00 0.000e+00 0.000e+00\n",
            " 0.000e+00 0.000e+00 0.000e+00 0.000e+00 0.000e+00 0.000e+00 0.000e+00\n",
            " 0.000e+00 0.000e+00 0.000e+00 0.000e+00 0.000e+00 0.000e+00 0.000e+00\n",
            " 0.000e+00 1.000e+00 0.000e+00 0.000e+00 0.000e+00 0.000e+00 0.000e+00\n",
            " 0.000e+00 0.000e+00 0.000e+00 0.000e+00 0.000e+00 0.000e+00 0.000e+00\n",
            " 0.000e+00 0.000e+00 0.000e+00 0.000e+00 0.000e+00 0.000e+00 0.000e+00\n",
            " 0.000e+00 0.000e+00 0.000e+00 0.000e+00 0.000e+00 1.000e+00 0.000e+00\n",
            " 0.000e+00 0.000e+00 8.000e+01 2.001e+03]\n",
            "Estimated resale price (linear regression)=>  [328309.73905818]\n",
            "Estimated resale price (DT regression)=>  [77097.88213628]\n"
          ]
        }
      ]
    },
    {
      "cell_type": "code",
      "source": [
        "import pandas as pd\n",
        "col_name = [\"month\",\"type\",\"storey\",\"AMK\",\"BED\",\"BIS\",\"BBT\",\"BMH\",\"BPJ\", \n",
        " \"BTM\",\"CEN\",\"CCK\",\"CLE\",\"GEY\",\"HOU\",\"JRE\",\"JRW\",\"KAL\",\"LCK\",\"MAR\", \n",
        " \"PAS\",\"PUN\",\"QUE\",\"SEM\",\"SKG\",\"SER\",\"TAM\",\"TOA\",\"WOO\", \n",
        " \"YIS\",\"2-room\",\"3Gen\",\"Adjoined\",\"Apartment\",\"DBSS\",\"Improved\", \n",
        " \"Improved-M\",\"Maisonette\",\"Model A\",\"Model A-M\",\"Model A2\", \n",
        " \"Multi Gen\",\"New Gen\",\"Premium Apt\",\"P/.remium Apt Loft\", \n",
        " \"Premium M\",\"Simplified\",\"Standard\",\"Terrace\",\"Type S1\", \n",
        " \"Type S2\",\"Area\",\"Lease\"] \n",
        "df_X = pd.DataFrame(X.toarray(),columns=col_name)\n",
        "df_X.head(5)"
      ],
      "metadata": {
        "colab": {
          "base_uri": "https://localhost:8080/",
          "height": 317
        },
        "id": "44U1_jzZX8y8",
        "outputId": "c43d9535-9ffe-4044-9b94-8ca9352e117f"
      },
      "execution_count": 36,
      "outputs": [
        {
          "output_type": "execute_result",
          "data": {
            "text/plain": [
              "   month  type  storey  AMK  BED  BIS  BBT  BMH  BPJ  BTM  ...  Premium Apt  \\\n",
              "0  300.0   2.0     4.0  1.0  0.0  0.0  0.0  0.0  0.0  0.0  ...          0.0   \n",
              "1  300.0   2.0     0.0  1.0  0.0  0.0  0.0  0.0  0.0  0.0  ...          0.0   \n",
              "2  300.0   2.0     0.0  1.0  0.0  0.0  0.0  0.0  0.0  0.0  ...          0.0   \n",
              "3  300.0   2.0     0.0  1.0  0.0  0.0  0.0  0.0  0.0  0.0  ...          0.0   \n",
              "4  300.0   2.0     4.0  1.0  0.0  0.0  0.0  0.0  0.0  0.0  ...          0.0   \n",
              "\n",
              "   P/.remium Apt Loft  Premium M  Simplified  Standard  Terrace  Type S1  \\\n",
              "0                 0.0        0.0         0.0       0.0      0.0      0.0   \n",
              "1                 0.0        0.0         0.0       0.0      0.0      0.0   \n",
              "2                 0.0        0.0         0.0       0.0      0.0      0.0   \n",
              "3                 0.0        0.0         0.0       0.0      0.0      0.0   \n",
              "4                 0.0        0.0         0.0       0.0      0.0      0.0   \n",
              "\n",
              "   Type S2  Area   Lease  \n",
              "0      0.0  60.0  1986.0  \n",
              "1      0.0  68.0  1981.0  \n",
              "2      0.0  69.0  1980.0  \n",
              "3      0.0  68.0  1979.0  \n",
              "4      0.0  68.0  1980.0  \n",
              "\n",
              "[5 rows x 53 columns]"
            ],
            "text/html": [
              "\n",
              "  <div id=\"df-9a4b699b-0111-46ed-8082-a71346531408\">\n",
              "    <div class=\"colab-df-container\">\n",
              "      <div>\n",
              "<style scoped>\n",
              "    .dataframe tbody tr th:only-of-type {\n",
              "        vertical-align: middle;\n",
              "    }\n",
              "\n",
              "    .dataframe tbody tr th {\n",
              "        vertical-align: top;\n",
              "    }\n",
              "\n",
              "    .dataframe thead th {\n",
              "        text-align: right;\n",
              "    }\n",
              "</style>\n",
              "<table border=\"1\" class=\"dataframe\">\n",
              "  <thead>\n",
              "    <tr style=\"text-align: right;\">\n",
              "      <th></th>\n",
              "      <th>month</th>\n",
              "      <th>type</th>\n",
              "      <th>storey</th>\n",
              "      <th>AMK</th>\n",
              "      <th>BED</th>\n",
              "      <th>BIS</th>\n",
              "      <th>BBT</th>\n",
              "      <th>BMH</th>\n",
              "      <th>BPJ</th>\n",
              "      <th>BTM</th>\n",
              "      <th>...</th>\n",
              "      <th>Premium Apt</th>\n",
              "      <th>P/.remium Apt Loft</th>\n",
              "      <th>Premium M</th>\n",
              "      <th>Simplified</th>\n",
              "      <th>Standard</th>\n",
              "      <th>Terrace</th>\n",
              "      <th>Type S1</th>\n",
              "      <th>Type S2</th>\n",
              "      <th>Area</th>\n",
              "      <th>Lease</th>\n",
              "    </tr>\n",
              "  </thead>\n",
              "  <tbody>\n",
              "    <tr>\n",
              "      <th>0</th>\n",
              "      <td>300.0</td>\n",
              "      <td>2.0</td>\n",
              "      <td>4.0</td>\n",
              "      <td>1.0</td>\n",
              "      <td>0.0</td>\n",
              "      <td>0.0</td>\n",
              "      <td>0.0</td>\n",
              "      <td>0.0</td>\n",
              "      <td>0.0</td>\n",
              "      <td>0.0</td>\n",
              "      <td>...</td>\n",
              "      <td>0.0</td>\n",
              "      <td>0.0</td>\n",
              "      <td>0.0</td>\n",
              "      <td>0.0</td>\n",
              "      <td>0.0</td>\n",
              "      <td>0.0</td>\n",
              "      <td>0.0</td>\n",
              "      <td>0.0</td>\n",
              "      <td>60.0</td>\n",
              "      <td>1986.0</td>\n",
              "    </tr>\n",
              "    <tr>\n",
              "      <th>1</th>\n",
              "      <td>300.0</td>\n",
              "      <td>2.0</td>\n",
              "      <td>0.0</td>\n",
              "      <td>1.0</td>\n",
              "      <td>0.0</td>\n",
              "      <td>0.0</td>\n",
              "      <td>0.0</td>\n",
              "      <td>0.0</td>\n",
              "      <td>0.0</td>\n",
              "      <td>0.0</td>\n",
              "      <td>...</td>\n",
              "      <td>0.0</td>\n",
              "      <td>0.0</td>\n",
              "      <td>0.0</td>\n",
              "      <td>0.0</td>\n",
              "      <td>0.0</td>\n",
              "      <td>0.0</td>\n",
              "      <td>0.0</td>\n",
              "      <td>0.0</td>\n",
              "      <td>68.0</td>\n",
              "      <td>1981.0</td>\n",
              "    </tr>\n",
              "    <tr>\n",
              "      <th>2</th>\n",
              "      <td>300.0</td>\n",
              "      <td>2.0</td>\n",
              "      <td>0.0</td>\n",
              "      <td>1.0</td>\n",
              "      <td>0.0</td>\n",
              "      <td>0.0</td>\n",
              "      <td>0.0</td>\n",
              "      <td>0.0</td>\n",
              "      <td>0.0</td>\n",
              "      <td>0.0</td>\n",
              "      <td>...</td>\n",
              "      <td>0.0</td>\n",
              "      <td>0.0</td>\n",
              "      <td>0.0</td>\n",
              "      <td>0.0</td>\n",
              "      <td>0.0</td>\n",
              "      <td>0.0</td>\n",
              "      <td>0.0</td>\n",
              "      <td>0.0</td>\n",
              "      <td>69.0</td>\n",
              "      <td>1980.0</td>\n",
              "    </tr>\n",
              "    <tr>\n",
              "      <th>3</th>\n",
              "      <td>300.0</td>\n",
              "      <td>2.0</td>\n",
              "      <td>0.0</td>\n",
              "      <td>1.0</td>\n",
              "      <td>0.0</td>\n",
              "      <td>0.0</td>\n",
              "      <td>0.0</td>\n",
              "      <td>0.0</td>\n",
              "      <td>0.0</td>\n",
              "      <td>0.0</td>\n",
              "      <td>...</td>\n",
              "      <td>0.0</td>\n",
              "      <td>0.0</td>\n",
              "      <td>0.0</td>\n",
              "      <td>0.0</td>\n",
              "      <td>0.0</td>\n",
              "      <td>0.0</td>\n",
              "      <td>0.0</td>\n",
              "      <td>0.0</td>\n",
              "      <td>68.0</td>\n",
              "      <td>1979.0</td>\n",
              "    </tr>\n",
              "    <tr>\n",
              "      <th>4</th>\n",
              "      <td>300.0</td>\n",
              "      <td>2.0</td>\n",
              "      <td>4.0</td>\n",
              "      <td>1.0</td>\n",
              "      <td>0.0</td>\n",
              "      <td>0.0</td>\n",
              "      <td>0.0</td>\n",
              "      <td>0.0</td>\n",
              "      <td>0.0</td>\n",
              "      <td>0.0</td>\n",
              "      <td>...</td>\n",
              "      <td>0.0</td>\n",
              "      <td>0.0</td>\n",
              "      <td>0.0</td>\n",
              "      <td>0.0</td>\n",
              "      <td>0.0</td>\n",
              "      <td>0.0</td>\n",
              "      <td>0.0</td>\n",
              "      <td>0.0</td>\n",
              "      <td>68.0</td>\n",
              "      <td>1980.0</td>\n",
              "    </tr>\n",
              "  </tbody>\n",
              "</table>\n",
              "<p>5 rows × 53 columns</p>\n",
              "</div>\n",
              "      <button class=\"colab-df-convert\" onclick=\"convertToInteractive('df-9a4b699b-0111-46ed-8082-a71346531408')\"\n",
              "              title=\"Convert this dataframe to an interactive table.\"\n",
              "              style=\"display:none;\">\n",
              "        \n",
              "  <svg xmlns=\"http://www.w3.org/2000/svg\" height=\"24px\"viewBox=\"0 0 24 24\"\n",
              "       width=\"24px\">\n",
              "    <path d=\"M0 0h24v24H0V0z\" fill=\"none\"/>\n",
              "    <path d=\"M18.56 5.44l.94 2.06.94-2.06 2.06-.94-2.06-.94-.94-2.06-.94 2.06-2.06.94zm-11 1L8.5 8.5l.94-2.06 2.06-.94-2.06-.94L8.5 2.5l-.94 2.06-2.06.94zm10 10l.94 2.06.94-2.06 2.06-.94-2.06-.94-.94-2.06-.94 2.06-2.06.94z\"/><path d=\"M17.41 7.96l-1.37-1.37c-.4-.4-.92-.59-1.43-.59-.52 0-1.04.2-1.43.59L10.3 9.45l-7.72 7.72c-.78.78-.78 2.05 0 2.83L4 21.41c.39.39.9.59 1.41.59.51 0 1.02-.2 1.41-.59l7.78-7.78 2.81-2.81c.8-.78.8-2.07 0-2.86zM5.41 20L4 18.59l7.72-7.72 1.47 1.35L5.41 20z\"/>\n",
              "  </svg>\n",
              "      </button>\n",
              "      \n",
              "  <style>\n",
              "    .colab-df-container {\n",
              "      display:flex;\n",
              "      flex-wrap:wrap;\n",
              "      gap: 12px;\n",
              "    }\n",
              "\n",
              "    .colab-df-convert {\n",
              "      background-color: #E8F0FE;\n",
              "      border: none;\n",
              "      border-radius: 50%;\n",
              "      cursor: pointer;\n",
              "      display: none;\n",
              "      fill: #1967D2;\n",
              "      height: 32px;\n",
              "      padding: 0 0 0 0;\n",
              "      width: 32px;\n",
              "    }\n",
              "\n",
              "    .colab-df-convert:hover {\n",
              "      background-color: #E2EBFA;\n",
              "      box-shadow: 0px 1px 2px rgba(60, 64, 67, 0.3), 0px 1px 3px 1px rgba(60, 64, 67, 0.15);\n",
              "      fill: #174EA6;\n",
              "    }\n",
              "\n",
              "    [theme=dark] .colab-df-convert {\n",
              "      background-color: #3B4455;\n",
              "      fill: #D2E3FC;\n",
              "    }\n",
              "\n",
              "    [theme=dark] .colab-df-convert:hover {\n",
              "      background-color: #434B5C;\n",
              "      box-shadow: 0px 1px 3px 1px rgba(0, 0, 0, 0.15);\n",
              "      filter: drop-shadow(0px 1px 2px rgba(0, 0, 0, 0.3));\n",
              "      fill: #FFFFFF;\n",
              "    }\n",
              "  </style>\n",
              "\n",
              "      <script>\n",
              "        const buttonEl =\n",
              "          document.querySelector('#df-9a4b699b-0111-46ed-8082-a71346531408 button.colab-df-convert');\n",
              "        buttonEl.style.display =\n",
              "          google.colab.kernel.accessAllowed ? 'block' : 'none';\n",
              "\n",
              "        async function convertToInteractive(key) {\n",
              "          const element = document.querySelector('#df-9a4b699b-0111-46ed-8082-a71346531408');\n",
              "          const dataTable =\n",
              "            await google.colab.kernel.invokeFunction('convertToInteractive',\n",
              "                                                     [key], {});\n",
              "          if (!dataTable) return;\n",
              "\n",
              "          const docLinkHtml = 'Like what you see? Visit the ' +\n",
              "            '<a target=\"_blank\" href=https://colab.research.google.com/notebooks/data_table.ipynb>data table notebook</a>'\n",
              "            + ' to learn more about interactive tables.';\n",
              "          element.innerHTML = '';\n",
              "          dataTable['output_type'] = 'display_data';\n",
              "          await google.colab.output.renderOutput(dataTable, element);\n",
              "          const docLink = document.createElement('div');\n",
              "          docLink.innerHTML = docLinkHtml;\n",
              "          element.appendChild(docLink);\n",
              "        }\n",
              "      </script>\n",
              "    </div>\n",
              "  </div>\n",
              "  "
            ]
          },
          "metadata": {},
          "execution_count": 36
        }
      ]
    },
    {
      "cell_type": "code",
      "source": [
        "import pandas as pd\n",
        "colss_name = [\"month\",\"type\",\"storey\",\"AMK\",\"BED\",\"BIS\",\"BBT\",\"BMH\",\"BPJ\", \n",
        " \"BTM\",\"CEN\",\"CCK\",\"CLE\",\"GEY\",\"HOU\",\"JRE\",\"JRW\",\"KAL\",\"LCK\",\"MAR\", \n",
        " \"PAS\",\"PUN\",\"QUE\",\"SEM\",\"SKG\",\"SER\",\"TAM\",\"TOA\",\"WOO\", \n",
        " \"YIS\",\"2-room\",\"3Gen\",\"Adjoined\",\"Apartment\",\"DBSS\",\"Improved\", \n",
        " \"Improved-M\",\"Maisonette\",\"Model A\",\"Model A-M\",\"Model A2\", \n",
        " \"Multi Gen\",\"New Gen\",\"Premium Apt\",\"P/.remium Apt Loft\", \n",
        " \"Premium M\",\"Simplified\",\"Standard\",\"Terrace\",\"Type S1\", \n",
        " \"Type S2\",\"Area\",\"Lease\",\"resale_price\"] \n",
        "df_Xy = pd.DataFrame(X_with_resale_price.toarray(),columns=colss_name)\n",
        "df_Xy.head(5)"
      ],
      "metadata": {
        "colab": {
          "base_uri": "https://localhost:8080/",
          "height": 317
        },
        "id": "W6ab3Ld9o225",
        "outputId": "d27b3882-59a5-4062-f56e-5d8a193ae540"
      },
      "execution_count": 37,
      "outputs": [
        {
          "output_type": "execute_result",
          "data": {
            "text/plain": [
              "   month  type  storey  AMK  BED  BIS  BBT  BMH  BPJ  BTM  ...  \\\n",
              "0  300.0   2.0     4.0  1.0  0.0  0.0  0.0  0.0  0.0  0.0  ...   \n",
              "1  300.0   2.0     0.0  1.0  0.0  0.0  0.0  0.0  0.0  0.0  ...   \n",
              "2  300.0   2.0     0.0  1.0  0.0  0.0  0.0  0.0  0.0  0.0  ...   \n",
              "3  300.0   2.0     0.0  1.0  0.0  0.0  0.0  0.0  0.0  0.0  ...   \n",
              "4  300.0   2.0     4.0  1.0  0.0  0.0  0.0  0.0  0.0  0.0  ...   \n",
              "\n",
              "   P/.remium Apt Loft  Premium M  Simplified  Standard  Terrace  Type S1  \\\n",
              "0                 0.0        0.0         0.0       0.0      0.0      0.0   \n",
              "1                 0.0        0.0         0.0       0.0      0.0      0.0   \n",
              "2                 0.0        0.0         0.0       0.0      0.0      0.0   \n",
              "3                 0.0        0.0         0.0       0.0      0.0      0.0   \n",
              "4                 0.0        0.0         0.0       0.0      0.0      0.0   \n",
              "\n",
              "   Type S2  Area   Lease  resale_price  \n",
              "0      0.0  60.0  1986.0      255000.0  \n",
              "1      0.0  68.0  1981.0      275000.0  \n",
              "2      0.0  69.0  1980.0      285000.0  \n",
              "3      0.0  68.0  1979.0      290000.0  \n",
              "4      0.0  68.0  1980.0      290000.0  \n",
              "\n",
              "[5 rows x 54 columns]"
            ],
            "text/html": [
              "\n",
              "  <div id=\"df-507f52a2-a830-482e-8ea0-5d240ec48c8b\">\n",
              "    <div class=\"colab-df-container\">\n",
              "      <div>\n",
              "<style scoped>\n",
              "    .dataframe tbody tr th:only-of-type {\n",
              "        vertical-align: middle;\n",
              "    }\n",
              "\n",
              "    .dataframe tbody tr th {\n",
              "        vertical-align: top;\n",
              "    }\n",
              "\n",
              "    .dataframe thead th {\n",
              "        text-align: right;\n",
              "    }\n",
              "</style>\n",
              "<table border=\"1\" class=\"dataframe\">\n",
              "  <thead>\n",
              "    <tr style=\"text-align: right;\">\n",
              "      <th></th>\n",
              "      <th>month</th>\n",
              "      <th>type</th>\n",
              "      <th>storey</th>\n",
              "      <th>AMK</th>\n",
              "      <th>BED</th>\n",
              "      <th>BIS</th>\n",
              "      <th>BBT</th>\n",
              "      <th>BMH</th>\n",
              "      <th>BPJ</th>\n",
              "      <th>BTM</th>\n",
              "      <th>...</th>\n",
              "      <th>P/.remium Apt Loft</th>\n",
              "      <th>Premium M</th>\n",
              "      <th>Simplified</th>\n",
              "      <th>Standard</th>\n",
              "      <th>Terrace</th>\n",
              "      <th>Type S1</th>\n",
              "      <th>Type S2</th>\n",
              "      <th>Area</th>\n",
              "      <th>Lease</th>\n",
              "      <th>resale_price</th>\n",
              "    </tr>\n",
              "  </thead>\n",
              "  <tbody>\n",
              "    <tr>\n",
              "      <th>0</th>\n",
              "      <td>300.0</td>\n",
              "      <td>2.0</td>\n",
              "      <td>4.0</td>\n",
              "      <td>1.0</td>\n",
              "      <td>0.0</td>\n",
              "      <td>0.0</td>\n",
              "      <td>0.0</td>\n",
              "      <td>0.0</td>\n",
              "      <td>0.0</td>\n",
              "      <td>0.0</td>\n",
              "      <td>...</td>\n",
              "      <td>0.0</td>\n",
              "      <td>0.0</td>\n",
              "      <td>0.0</td>\n",
              "      <td>0.0</td>\n",
              "      <td>0.0</td>\n",
              "      <td>0.0</td>\n",
              "      <td>0.0</td>\n",
              "      <td>60.0</td>\n",
              "      <td>1986.0</td>\n",
              "      <td>255000.0</td>\n",
              "    </tr>\n",
              "    <tr>\n",
              "      <th>1</th>\n",
              "      <td>300.0</td>\n",
              "      <td>2.0</td>\n",
              "      <td>0.0</td>\n",
              "      <td>1.0</td>\n",
              "      <td>0.0</td>\n",
              "      <td>0.0</td>\n",
              "      <td>0.0</td>\n",
              "      <td>0.0</td>\n",
              "      <td>0.0</td>\n",
              "      <td>0.0</td>\n",
              "      <td>...</td>\n",
              "      <td>0.0</td>\n",
              "      <td>0.0</td>\n",
              "      <td>0.0</td>\n",
              "      <td>0.0</td>\n",
              "      <td>0.0</td>\n",
              "      <td>0.0</td>\n",
              "      <td>0.0</td>\n",
              "      <td>68.0</td>\n",
              "      <td>1981.0</td>\n",
              "      <td>275000.0</td>\n",
              "    </tr>\n",
              "    <tr>\n",
              "      <th>2</th>\n",
              "      <td>300.0</td>\n",
              "      <td>2.0</td>\n",
              "      <td>0.0</td>\n",
              "      <td>1.0</td>\n",
              "      <td>0.0</td>\n",
              "      <td>0.0</td>\n",
              "      <td>0.0</td>\n",
              "      <td>0.0</td>\n",
              "      <td>0.0</td>\n",
              "      <td>0.0</td>\n",
              "      <td>...</td>\n",
              "      <td>0.0</td>\n",
              "      <td>0.0</td>\n",
              "      <td>0.0</td>\n",
              "      <td>0.0</td>\n",
              "      <td>0.0</td>\n",
              "      <td>0.0</td>\n",
              "      <td>0.0</td>\n",
              "      <td>69.0</td>\n",
              "      <td>1980.0</td>\n",
              "      <td>285000.0</td>\n",
              "    </tr>\n",
              "    <tr>\n",
              "      <th>3</th>\n",
              "      <td>300.0</td>\n",
              "      <td>2.0</td>\n",
              "      <td>0.0</td>\n",
              "      <td>1.0</td>\n",
              "      <td>0.0</td>\n",
              "      <td>0.0</td>\n",
              "      <td>0.0</td>\n",
              "      <td>0.0</td>\n",
              "      <td>0.0</td>\n",
              "      <td>0.0</td>\n",
              "      <td>...</td>\n",
              "      <td>0.0</td>\n",
              "      <td>0.0</td>\n",
              "      <td>0.0</td>\n",
              "      <td>0.0</td>\n",
              "      <td>0.0</td>\n",
              "      <td>0.0</td>\n",
              "      <td>0.0</td>\n",
              "      <td>68.0</td>\n",
              "      <td>1979.0</td>\n",
              "      <td>290000.0</td>\n",
              "    </tr>\n",
              "    <tr>\n",
              "      <th>4</th>\n",
              "      <td>300.0</td>\n",
              "      <td>2.0</td>\n",
              "      <td>4.0</td>\n",
              "      <td>1.0</td>\n",
              "      <td>0.0</td>\n",
              "      <td>0.0</td>\n",
              "      <td>0.0</td>\n",
              "      <td>0.0</td>\n",
              "      <td>0.0</td>\n",
              "      <td>0.0</td>\n",
              "      <td>...</td>\n",
              "      <td>0.0</td>\n",
              "      <td>0.0</td>\n",
              "      <td>0.0</td>\n",
              "      <td>0.0</td>\n",
              "      <td>0.0</td>\n",
              "      <td>0.0</td>\n",
              "      <td>0.0</td>\n",
              "      <td>68.0</td>\n",
              "      <td>1980.0</td>\n",
              "      <td>290000.0</td>\n",
              "    </tr>\n",
              "  </tbody>\n",
              "</table>\n",
              "<p>5 rows × 54 columns</p>\n",
              "</div>\n",
              "      <button class=\"colab-df-convert\" onclick=\"convertToInteractive('df-507f52a2-a830-482e-8ea0-5d240ec48c8b')\"\n",
              "              title=\"Convert this dataframe to an interactive table.\"\n",
              "              style=\"display:none;\">\n",
              "        \n",
              "  <svg xmlns=\"http://www.w3.org/2000/svg\" height=\"24px\"viewBox=\"0 0 24 24\"\n",
              "       width=\"24px\">\n",
              "    <path d=\"M0 0h24v24H0V0z\" fill=\"none\"/>\n",
              "    <path d=\"M18.56 5.44l.94 2.06.94-2.06 2.06-.94-2.06-.94-.94-2.06-.94 2.06-2.06.94zm-11 1L8.5 8.5l.94-2.06 2.06-.94-2.06-.94L8.5 2.5l-.94 2.06-2.06.94zm10 10l.94 2.06.94-2.06 2.06-.94-2.06-.94-.94-2.06-.94 2.06-2.06.94z\"/><path d=\"M17.41 7.96l-1.37-1.37c-.4-.4-.92-.59-1.43-.59-.52 0-1.04.2-1.43.59L10.3 9.45l-7.72 7.72c-.78.78-.78 2.05 0 2.83L4 21.41c.39.39.9.59 1.41.59.51 0 1.02-.2 1.41-.59l7.78-7.78 2.81-2.81c.8-.78.8-2.07 0-2.86zM5.41 20L4 18.59l7.72-7.72 1.47 1.35L5.41 20z\"/>\n",
              "  </svg>\n",
              "      </button>\n",
              "      \n",
              "  <style>\n",
              "    .colab-df-container {\n",
              "      display:flex;\n",
              "      flex-wrap:wrap;\n",
              "      gap: 12px;\n",
              "    }\n",
              "\n",
              "    .colab-df-convert {\n",
              "      background-color: #E8F0FE;\n",
              "      border: none;\n",
              "      border-radius: 50%;\n",
              "      cursor: pointer;\n",
              "      display: none;\n",
              "      fill: #1967D2;\n",
              "      height: 32px;\n",
              "      padding: 0 0 0 0;\n",
              "      width: 32px;\n",
              "    }\n",
              "\n",
              "    .colab-df-convert:hover {\n",
              "      background-color: #E2EBFA;\n",
              "      box-shadow: 0px 1px 2px rgba(60, 64, 67, 0.3), 0px 1px 3px 1px rgba(60, 64, 67, 0.15);\n",
              "      fill: #174EA6;\n",
              "    }\n",
              "\n",
              "    [theme=dark] .colab-df-convert {\n",
              "      background-color: #3B4455;\n",
              "      fill: #D2E3FC;\n",
              "    }\n",
              "\n",
              "    [theme=dark] .colab-df-convert:hover {\n",
              "      background-color: #434B5C;\n",
              "      box-shadow: 0px 1px 3px 1px rgba(0, 0, 0, 0.15);\n",
              "      filter: drop-shadow(0px 1px 2px rgba(0, 0, 0, 0.3));\n",
              "      fill: #FFFFFF;\n",
              "    }\n",
              "  </style>\n",
              "\n",
              "      <script>\n",
              "        const buttonEl =\n",
              "          document.querySelector('#df-507f52a2-a830-482e-8ea0-5d240ec48c8b button.colab-df-convert');\n",
              "        buttonEl.style.display =\n",
              "          google.colab.kernel.accessAllowed ? 'block' : 'none';\n",
              "\n",
              "        async function convertToInteractive(key) {\n",
              "          const element = document.querySelector('#df-507f52a2-a830-482e-8ea0-5d240ec48c8b');\n",
              "          const dataTable =\n",
              "            await google.colab.kernel.invokeFunction('convertToInteractive',\n",
              "                                                     [key], {});\n",
              "          if (!dataTable) return;\n",
              "\n",
              "          const docLinkHtml = 'Like what you see? Visit the ' +\n",
              "            '<a target=\"_blank\" href=https://colab.research.google.com/notebooks/data_table.ipynb>data table notebook</a>'\n",
              "            + ' to learn more about interactive tables.';\n",
              "          element.innerHTML = '';\n",
              "          dataTable['output_type'] = 'display_data';\n",
              "          await google.colab.output.renderOutput(dataTable, element);\n",
              "          const docLink = document.createElement('div');\n",
              "          docLink.innerHTML = docLinkHtml;\n",
              "          element.appendChild(docLink);\n",
              "        }\n",
              "      </script>\n",
              "    </div>\n",
              "  </div>\n",
              "  "
            ]
          },
          "metadata": {},
          "execution_count": 37
        }
      ]
    },
    {
      "cell_type": "markdown",
      "source": [
        "Before we finalize our model, it is important we do some model validation.\n",
        "\n",
        "The code below uses the train_test_split() function from the Scikit-learn library to split a dataset into training and testing sets for machine learning.\n",
        "\n",
        "The X_with_resale_price variable contains the feature matrix and target variable as a single NumPy array.\n",
        "\n",
        "The code first uses NumPy's asarray function to convert the feature matrix of X_with_resale_price to a NumPy array and then selects all but the last column using the slicing operation [:,:-1]. This creates a new NumPy array X_input containing only the feature values.\n",
        "\n",
        "The last column of X_with_resale_price is selected using the slicing operation [:,-1] and converted to a NumPy array Y_input, which contains only the target variable values, that is, \"resale_price\" values.\n",
        "\n",
        "The train_test_split function is then called with the X_input and Y_input arrays as the input data, along with the random_state parameter set to 42. This ensures that the random split will be reproducible, and the test_size parameter set to 0.25 (which specifies that 25% of the data will be used for testing and the remaining 75% will be used for training).\n",
        "\n",
        "The function returns four arrays: X_train and y_train, which contain the training data, and X_test and y_test, which contain the testing data."
      ],
      "metadata": {
        "id": "l8K18yjg2_G6"
      }
    },
    {
      "cell_type": "code",
      "source": [
        "from sklearn.model_selection import train_test_split\n",
        "import numpy as np \n",
        "\n",
        "X_input=np.asarray(X_with_resale_price.toarray()[:,:-1])\n",
        "Y_input=np.asarray(X_with_resale_price.toarray()[:,-1])\n",
        "\n",
        "X_train, X_test, y_train, y_test=train_test_split(X_input,Y_input,random_state=42,test_size=0.25) #considering 25% of data for prediction purpose"
      ],
      "metadata": {
        "id": "FzJFCucKy-al"
      },
      "execution_count": 38,
      "outputs": []
    },
    {
      "cell_type": "code",
      "source": [
        "import numpy as np \n",
        "input = np.zeros(53) \n",
        "input[0] = 265 #set month to Mar 2017\n",
        "input[1] = 5 #set flat type to 5-Room\n",
        "input[2] = 2 #set storey range to 25\n",
        "input[24] = 1 #set town to Punggol\n",
        "input[38] = 1 #set flat model to Standard\n",
        "input[51] = 100 #set floor area to 80 sqm\n",
        "input[52] = 1999 #set lease commencement to 2001\n",
        "print(input) \n",
        "print(\"Estimated resale price (linear regression)=> \", lr.predict([input])) \n",
        "print(\"Estimated resale price (DT regression)=> \", dtr.predict([input]))"
      ],
      "metadata": {
        "colab": {
          "base_uri": "https://localhost:8080/"
        },
        "id": "9OjKvldoSRNZ",
        "outputId": "e71e866c-b1fd-4b8a-dc42-25ed4a394e65"
      },
      "execution_count": 39,
      "outputs": [
        {
          "output_type": "stream",
          "name": "stdout",
          "text": [
            "[2.650e+02 5.000e+00 2.000e+00 0.000e+00 0.000e+00 0.000e+00 0.000e+00\n",
            " 0.000e+00 0.000e+00 0.000e+00 0.000e+00 0.000e+00 0.000e+00 0.000e+00\n",
            " 0.000e+00 0.000e+00 0.000e+00 0.000e+00 0.000e+00 0.000e+00 0.000e+00\n",
            " 0.000e+00 0.000e+00 0.000e+00 1.000e+00 0.000e+00 0.000e+00 0.000e+00\n",
            " 0.000e+00 0.000e+00 0.000e+00 0.000e+00 0.000e+00 0.000e+00 0.000e+00\n",
            " 0.000e+00 0.000e+00 0.000e+00 1.000e+00 0.000e+00 0.000e+00 0.000e+00\n",
            " 0.000e+00 0.000e+00 0.000e+00 0.000e+00 0.000e+00 0.000e+00 0.000e+00\n",
            " 0.000e+00 0.000e+00 1.000e+02 1.999e+03]\n",
            "Estimated resale price (linear regression)=>  [429338.31908991]\n",
            "Estimated resale price (DT regression)=>  [503887.44933365]\n"
          ]
        }
      ]
    },
    {
      "cell_type": "markdown",
      "source": [
        "Performing Linear regression using training data and evaluating using test data:"
      ],
      "metadata": {
        "id": "HRMj_0cy28Bw"
      }
    },
    {
      "cell_type": "code",
      "source": [
        "from sklearn.linear_model import LinearRegression \n",
        "from sklearn.metrics import mean_absolute_percentage_error\n",
        "from sklearn.metrics import mean_squared_error, r2_score \n",
        "lr = LinearRegression() \n",
        "lr.fit(X_train, y_train) \n",
        "print(\"R-sq of model: \", lr.score(X_train, y_train)) \n",
        "pred = lr.predict(X_test) \n",
        "print(\"RMSE: %.2f\" % mean_squared_error(y_test, pred, squared=False)) \n",
        "print(\"R-sq of predictions: \", r2_score(y_test, pred))\n",
        "print(\"MAPE of predictions: \", mean_absolute_percentage_error(y_test,pred))"
      ],
      "metadata": {
        "colab": {
          "base_uri": "https://localhost:8080/"
        },
        "id": "EMKjv_g6pMh-",
        "outputId": "17457831-f0b3-4bdf-f0a3-6de97a1f9018"
      },
      "execution_count": 40,
      "outputs": [
        {
          "output_type": "stream",
          "name": "stdout",
          "text": [
            "R-sq of model:  0.8288982181215597\n",
            "RMSE: 67285.94\n",
            "R-sq of predictions:  0.8286519529833725\n",
            "MAPE of predictions:  0.21506023009369243\n"
          ]
        }
      ]
    },
    {
      "cell_type": "markdown",
      "source": [
        "Performing Decision Tree regression using training data and evaluating using test data:\n",
        "\n",
        "Trying Decision Tree Regression with max_depth = 12"
      ],
      "metadata": {
        "id": "Y0-nYUD02Y5d"
      }
    },
    {
      "cell_type": "code",
      "source": [
        "from sklearn.tree import DecisionTreeRegressor \n",
        "from sklearn.metrics import mean_absolute_percentage_error\n",
        "from sklearn.metrics import mean_squared_error, r2_score \n",
        "dtr = DecisionTreeRegressor(criterion='friedman_mse', max_depth=12, min_samples_leaf=1, random_state=0).fit(X_train, y_train) \n",
        "print(\"R-sq of model: \", dtr.score(X_train, y_train)) \n",
        "pred = dtr.predict(X_test) \n",
        "print(\"RMSE: %.2f\" % mean_squared_error(y_test, pred, squared=False)) \n",
        "print(\"R-sq of predictions: \", r2_score(y_test, pred))\n",
        "print(\"MAPE of predictions: \", mean_absolute_percentage_error(y_test,pred))"
      ],
      "metadata": {
        "colab": {
          "base_uri": "https://localhost:8080/"
        },
        "id": "UfLShlwRpYG5",
        "outputId": "f4bac65d-c51e-465f-e71d-25d49519d9d5"
      },
      "execution_count": 41,
      "outputs": [
        {
          "output_type": "stream",
          "name": "stdout",
          "text": [
            "R-sq of model:  0.9215745706527093\n",
            "RMSE: 46047.28\n",
            "R-sq of predictions:  0.9197511923683699\n",
            "MAPE of predictions:  0.1041027645438105\n"
          ]
        }
      ]
    },
    {
      "cell_type": "markdown",
      "source": [
        "Trying Decision Tree Regression with max_depth = 20"
      ],
      "metadata": {
        "id": "2UP8A7wrNUG9"
      }
    },
    {
      "cell_type": "code",
      "source": [
        "from sklearn.tree import DecisionTreeRegressor \n",
        "from sklearn.metrics import mean_absolute_percentage_error\n",
        "from sklearn.metrics import mean_squared_error, r2_score \n",
        "dtr = DecisionTreeRegressor(criterion='friedman_mse', max_depth=20, min_samples_leaf=1, random_state=0).fit(X_train, y_train) \n",
        "print(\"R-sq of model: \", dtr.score(X_train, y_train)) \n",
        "pred = dtr.predict(X_test) \n",
        "print(\"RMSE: %.2f\" % mean_squared_error(y_test, pred, squared=False)) \n",
        "print(\"R-sq of predictions: \", r2_score(y_test, pred))\n",
        "print(\"MAPE of predictions: \", mean_absolute_percentage_error(y_test,pred))\n"
      ],
      "metadata": {
        "colab": {
          "base_uri": "https://localhost:8080/"
        },
        "id": "eAGdNcPSpe84",
        "outputId": "76a59bed-5d79-4f0f-98b1-b79f1c1367aa"
      },
      "execution_count": 42,
      "outputs": [
        {
          "output_type": "stream",
          "name": "stdout",
          "text": [
            "R-sq of model:  0.9669144039359462\n",
            "RMSE: 33878.22\n",
            "R-sq of predictions:  0.9565618093101402\n",
            "MAPE of predictions:  0.07668451867696556\n"
          ]
        }
      ]
    },
    {
      "cell_type": "markdown",
      "source": [
        "Next, let's try Decision Tree Regression with max_depth = 8"
      ],
      "metadata": {
        "id": "j-TfnX_4NRj6"
      }
    },
    {
      "cell_type": "code",
      "source": [
        "from sklearn.tree import DecisionTreeRegressor \n",
        "from sklearn.metrics import mean_absolute_percentage_error\n",
        "from sklearn.metrics import mean_squared_error, r2_score \n",
        "dtr = DecisionTreeRegressor(criterion='friedman_mse', max_depth=8, min_samples_leaf=1, random_state=0).fit(X_train, y_train) \n",
        "print(\"R-sq of model: \", dtr.score(X_train, y_train)) \n",
        "pred = dtr.predict(X_test) \n",
        "print(\"RMSE: %.2f\" % mean_squared_error(y_test, pred, squared=False)) \n",
        "print(\"R-sq of predictions: \", r2_score(y_test, pred))\n",
        "print(\"MAPE of predictions: \", mean_absolute_percentage_error(y_test,pred))"
      ],
      "metadata": {
        "colab": {
          "base_uri": "https://localhost:8080/"
        },
        "id": "jsSLz_8Tph9n",
        "outputId": "83a33be8-3dae-41b2-e9cf-f74809b0e188"
      },
      "execution_count": 43,
      "outputs": [
        {
          "output_type": "stream",
          "name": "stdout",
          "text": [
            "R-sq of model:  0.875790912520412\n",
            "RMSE: 57640.57\n",
            "R-sq of predictions:  0.8742560365964344\n",
            "MAPE of predictions:  0.13269276477615763\n"
          ]
        }
      ]
    },
    {
      "cell_type": "markdown",
      "source": [
        "Next, let's try Decision Tree Regression with max_depth = 9"
      ],
      "metadata": {
        "id": "k7OrGKUfNP_T"
      }
    },
    {
      "cell_type": "code",
      "source": [
        "from sklearn.tree import DecisionTreeRegressor \n",
        "from sklearn.metrics import mean_absolute_percentage_error\n",
        "from sklearn.metrics import mean_squared_error, r2_score \n",
        "dtr = DecisionTreeRegressor(criterion='friedman_mse', max_depth=9, min_samples_leaf=1, random_state=0).fit(X_train, y_train) \n",
        "print(\"R-sq of model: \", dtr.score(X_train, y_train)) \n",
        "pred = dtr.predict(X_test) \n",
        "print(\"RMSE: %.2f\" % mean_squared_error(y_test, pred, squared=False)) \n",
        "print(\"R-sq of predictions: \", r2_score(y_test, pred))\n",
        "print(\"MAPE of predictions: \", mean_absolute_percentage_error(y_test,pred))"
      ],
      "metadata": {
        "colab": {
          "base_uri": "https://localhost:8080/"
        },
        "id": "IniuTmjJpk8_",
        "outputId": "967c1018-674f-4cb2-d485-4794e4268568"
      },
      "execution_count": 44,
      "outputs": [
        {
          "output_type": "stream",
          "name": "stdout",
          "text": [
            "R-sq of model:  0.8899625735172076\n",
            "RMSE: 54225.49\n",
            "R-sq of predictions:  0.8887147868882482\n",
            "MAPE of predictions:  0.12331797692029006\n"
          ]
        }
      ]
    },
    {
      "cell_type": "markdown",
      "source": [
        "Trying Decision Tree Regression with max_depth = 30"
      ],
      "metadata": {
        "id": "_nyUfadwNOPL"
      }
    },
    {
      "cell_type": "code",
      "source": [
        "from sklearn.tree import DecisionTreeRegressor \n",
        "from sklearn.metrics import mean_absolute_percentage_error\n",
        "from sklearn.metrics import mean_squared_error, r2_score \n",
        "dtr = DecisionTreeRegressor(criterion='friedman_mse', max_depth=30, min_samples_leaf=1, random_state=0).fit(X_train, y_train) \n",
        "print(\"R-sq of model: \", dtr.score(X_train, y_train)) \n",
        "pred = dtr.predict(X_test) \n",
        "print(\"RMSE: %.2f\" % mean_squared_error(y_test, pred, squared=False)) \n",
        "print(\"R-sq of predictions: \", r2_score(y_test, pred))\n",
        "print(\"MAPE of predictions: \", mean_absolute_percentage_error(y_test,pred))"
      ],
      "metadata": {
        "colab": {
          "base_uri": "https://localhost:8080/"
        },
        "id": "6XA0CFdOpuut",
        "outputId": "eea18956-7f46-4a8b-960f-5eb99381c1f8"
      },
      "execution_count": 45,
      "outputs": [
        {
          "output_type": "stream",
          "name": "stdout",
          "text": [
            "R-sq of model:  0.9906391405568673\n",
            "RMSE: 29898.60\n",
            "R-sq of predictions:  0.9661676483148718\n",
            "MAPE of predictions:  0.07001579020563503\n"
          ]
        }
      ]
    },
    {
      "cell_type": "markdown",
      "source": [
        "Trying Decision Tree Regression with max_depth = 13"
      ],
      "metadata": {
        "id": "JmuLwFKaNHnf"
      }
    },
    {
      "cell_type": "code",
      "source": [
        "from sklearn.tree import DecisionTreeRegressor \n",
        "from sklearn.metrics import mean_absolute_percentage_error\n",
        "from sklearn.metrics import mean_squared_error, r2_score \n",
        "dtr = DecisionTreeRegressor(criterion='friedman_mse', max_depth=13, min_samples_leaf=1, random_state=0).fit(X_train, y_train) \n",
        "print(\"R-sq of model: \", dtr.score(X_train, y_train)) \n",
        "pred = dtr.predict(X_test) \n",
        "print(\"RMSE: %.2f\" % mean_squared_error(y_test, pred, squared=False)) \n",
        "print(\"R-sq of predictions: \", r2_score(y_test, pred))\n",
        "print(\"MAPE of predictions: \", mean_absolute_percentage_error(y_test,pred))"
      ],
      "metadata": {
        "colab": {
          "base_uri": "https://localhost:8080/"
        },
        "id": "z8kg7vUXpyhz",
        "outputId": "bc399540-36da-4e3a-f663-33788c3ce275"
      },
      "execution_count": 46,
      "outputs": [
        {
          "output_type": "stream",
          "name": "stdout",
          "text": [
            "R-sq of model:  0.9297857032441806\n",
            "RMSE: 43929.72\n",
            "R-sq of predictions:  0.9269622448154543\n",
            "MAPE of predictions:  0.09912259499055934\n"
          ]
        }
      ]
    },
    {
      "cell_type": "markdown",
      "source": [
        "After observation, we conclude that the decision Regression Tree with Max_depth = 30 serves as the best model to predict the housing prices in Singapore as it maximizes the R^2 of model and predictions and minimizes the Mean Absolute Percentage Error. Values are given below:-\n",
        "\n",
        "\n",
        "R-sq of model:  0.9906391405568673\n",
        "\n",
        "RMSE: 29898.60\n",
        "\n",
        "R-sq of predictions:  0.9661676483148718\n",
        "\n",
        "MAPE of predictions:  0.07001579020563503"
      ],
      "metadata": {
        "id": "PhiXYjLnSNrR"
      }
    },
    {
      "cell_type": "markdown",
      "source": [
        "Modify the data below to predict the house price of any other house. Note that the indices represent the following:\n",
        "\n",
        "Index      0 => month\n",
        "\n",
        "Index      1 => flat_type \n",
        "\n",
        "Index      2 => Storey-range\n",
        "\n",
        "Indices 3-29 => town\n",
        "\n",
        "Indices 30-52 => flat_model\n",
        "\n",
        "Index      53 => floor_area\n",
        "\n",
        "Index      54 => lease_commencement_date\n"
      ],
      "metadata": {
        "id": "EMhcU1AwzS28"
      }
    },
    {
      "cell_type": "code",
      "source": [
        "#FINAL MODEL\n",
        "\n",
        "from sklearn.tree import DecisionTreeRegressor \n",
        "from sklearn.metrics import mean_absolute_percentage_error\n",
        "from sklearn.metrics import mean_squared_error, r2_score \n",
        "dtr = DecisionTreeRegressor(criterion='friedman_mse', max_depth=30, min_samples_leaf=1, random_state=0).fit(X_train, y_train) \n",
        "print(\"R-sq of model: \", dtr.score(X_train, y_train)) \n",
        "pred = dtr.predict(X_test) \n",
        "print(\"RMSE: %.2f\" % mean_squared_error(y_test, pred, squared=False)) \n",
        "print(\"R-sq of predictions: \", r2_score(y_test, pred))\n",
        "print(\"MAPE of predictions: \", mean_absolute_percentage_error(y_test,pred))\n",
        "\n",
        "#Change values below \n",
        "\n",
        "import numpy as np \n",
        "input = np.zeros(53) \n",
        "input[0] = 331   # month\n",
        "input[1] = 3     # flat_type\n",
        "input[2] = 4     # storey_range\n",
        "input[24] = 1    # town\n",
        "input[38] = 1    # flat_model\n",
        "input[51] = 100  # floor_area\n",
        "input[52] = 1999 # lease_commencement_data\n",
        "print(input)  \n",
        "print(\"Estimated resale price (DT regression)=> \", dtr.predict([input]))"
      ],
      "metadata": {
        "colab": {
          "base_uri": "https://localhost:8080/"
        },
        "id": "g7g66iFuLJmD",
        "outputId": "0625f038-3162-4c61-9cb3-fb3f790dda29"
      },
      "execution_count": 47,
      "outputs": [
        {
          "output_type": "stream",
          "name": "stdout",
          "text": [
            "R-sq of model:  0.9906391405568673\n",
            "RMSE: 29898.60\n",
            "R-sq of predictions:  0.9661676483148718\n",
            "MAPE of predictions:  0.07001579020563503\n",
            "[3.310e+02 3.000e+00 4.000e+00 0.000e+00 0.000e+00 0.000e+00 0.000e+00\n",
            " 0.000e+00 0.000e+00 0.000e+00 0.000e+00 0.000e+00 0.000e+00 0.000e+00\n",
            " 0.000e+00 0.000e+00 0.000e+00 0.000e+00 0.000e+00 0.000e+00 0.000e+00\n",
            " 0.000e+00 0.000e+00 0.000e+00 1.000e+00 0.000e+00 0.000e+00 0.000e+00\n",
            " 0.000e+00 0.000e+00 0.000e+00 0.000e+00 0.000e+00 0.000e+00 0.000e+00\n",
            " 0.000e+00 0.000e+00 0.000e+00 1.000e+00 0.000e+00 0.000e+00 0.000e+00\n",
            " 0.000e+00 0.000e+00 0.000e+00 0.000e+00 0.000e+00 0.000e+00 0.000e+00\n",
            " 0.000e+00 0.000e+00 1.000e+02 1.999e+03]\n",
            "Estimated resale price (DT regression)=>  [406065.24237209]\n"
          ]
        }
      ]
    }
  ]
}